{
 "cells": [
  {
   "cell_type": "code",
   "execution_count": 1,
   "metadata": {},
   "outputs": [
    {
     "name": "stdout",
     "output_type": "stream",
     "text": [
      "1\n",
      "2\n",
      "3\n",
      "4\n",
      "5\n"
     ]
    }
   ],
   "source": [
    "print(1)\n",
    "print(2)\n",
    "print(3)\n",
    "print(4)\n",
    "print(5)"
   ]
  },
  {
   "cell_type": "code",
   "execution_count": 2,
   "metadata": {},
   "outputs": [
    {
     "name": "stdout",
     "output_type": "stream",
     "text": [
      "1\n",
      "2\n",
      "3\n",
      "4\n",
      "5\n"
     ]
    }
   ],
   "source": [
    "count = 1 # Initialize counter\n",
    "while count <= 5: # Should we continue?\n",
    "    print(count) # Display counter, then\n",
    "    count += 1 # Increment counter"
   ]
  },
  {
   "cell_type": "code",
   "execution_count": 3,
   "metadata": {},
   "outputs": [
    {
     "name": "stdout",
     "output_type": "stream",
     "text": [
      "1\n",
      "2\n",
      "3\n",
      "4\n",
      "5\n",
      "6\n",
      "7\n",
      "8\n",
      "9\n",
      "10\n"
     ]
    }
   ],
   "source": [
    "# Definite loop\n",
    "n = 1\n",
    "while n <= 10:\n",
    "    print(n)\n",
    "    n += 1"
   ]
  },
  {
   "cell_type": "code",
   "execution_count": 4,
   "metadata": {},
   "outputs": [
    {
     "name": "stdout",
     "output_type": "stream",
     "text": [
      "2\n",
      "2\n",
      "999\n"
     ]
    }
   ],
   "source": [
    "# Indefinite loop\n",
    "done = False # Enter the loop at least once\n",
    "while not done:\n",
    "    entry = int(input()) # Get value from user\n",
    "    if entry == 999: # Did user provide the magic number?\n",
    "        done = True # If so, get out\n",
    "    else:\n",
    "        print(entry) # If not,"
   ]
  },
  {
   "cell_type": "code",
   "execution_count": 5,
   "metadata": {},
   "outputs": [
    {
     "name": "stdout",
     "output_type": "stream",
     "text": [
      "Enter numbers to sum, negative number ends list:\n",
      "2\n",
      "3\n",
      "-1\n",
      "Sum = 5\n"
     ]
    }
   ],
   "source": [
    "# Allow the user to enter a sequence of nonnegative\n",
    "# numbers. The user ends the list with a negative\n",
    "# number. At the end the sum of the nonnegative\n",
    "# numbers entered is displayed. The program prints\n",
    "# zero if the user provides no nonnegative numbers.\n",
    "\n",
    "entry = 0 # Ensure the loop is entered\n",
    "sum = 0 # Initialize sum\n",
    "# Request input from the user\n",
    "print(\"Enter numbers to sum, negative number ends list:\")\n",
    "while entry >= 0: # A negative number exist the loop\n",
    "    entry = int(input()) # Get the value\n",
    "    if entry >= 0: # Is number negative number?\n",
    "        sum += entry # Add entry to running sum\n",
    "print(\"Sum =\", sum) # Display the sum"
   ]
  },
  {
   "cell_type": "code",
   "execution_count": 6,
   "metadata": {},
   "outputs": [
    {
     "name": "stdout",
     "output_type": "stream",
     "text": [
      "entry =  0\n",
      "entry2 =  0\n",
      "entry2 =  1\n",
      "entry2 =  2\n",
      "entry =  1\n",
      "entry2 =  0\n",
      "entry2 =  1\n",
      "entry2 =  2\n"
     ]
    }
   ],
   "source": [
    "# Nested loops\n",
    "entry = 0\n",
    "while entry < 2:\n",
    "    print('entry = ', entry)\n",
    "    entry2 = 0\n",
    "    while entry2 < 3:\n",
    "        print('entry2 = ', entry2)\n",
    "        entry2 += 1\n",
    "    entry += 1"
   ]
  },
  {
   "cell_type": "code",
   "execution_count": 7,
   "metadata": {},
   "outputs": [
    {
     "data": {
      "text/plain": [
       "0"
      ]
     },
     "execution_count": 7,
     "metadata": {},
     "output_type": "execute_result"
    }
   ],
   "source": [
    "# Check if a number is a factor of an integer\n",
    "6%2"
   ]
  },
  {
   "cell_type": "code",
   "execution_count": 8,
   "metadata": {},
   "outputs": [
    {
     "name": "stdout",
     "output_type": "stream",
     "text": [
      "1: 1 \n",
      "2: 1 2 \n",
      "3: 1 "
     ]
    },
    {
     "ename": "KeyboardInterrupt",
     "evalue": "",
     "output_type": "error",
     "traceback": [
      "\u001b[0;31m---------------------------------------------------------------------------\u001b[0m",
      "\u001b[0;31mKeyboardInterrupt\u001b[0m                         Traceback (most recent call last)",
      "\u001b[0;32m<ipython-input-8-9f689caf143c>\u001b[0m in \u001b[0;36m<module>\u001b[0;34m\u001b[0m\n\u001b[1;32m      6\u001b[0m     \u001b[0mfactor\u001b[0m \u001b[0;34m=\u001b[0m \u001b[0;36m1\u001b[0m \u001b[0;31m# 1 is a factor of any integer\u001b[0m\u001b[0;34m\u001b[0m\u001b[0;34m\u001b[0m\u001b[0m\n\u001b[1;32m      7\u001b[0m     \u001b[0mprint\u001b[0m\u001b[0;34m(\u001b[0m\u001b[0mend\u001b[0m\u001b[0;34m=\u001b[0m\u001b[0mstr\u001b[0m\u001b[0;34m(\u001b[0m\u001b[0mn\u001b[0m\u001b[0;34m)\u001b[0m \u001b[0;34m+\u001b[0m \u001b[0;34m': '\u001b[0m\u001b[0;34m)\u001b[0m \u001b[0;31m# Which integer are we examining?\u001b[0m\u001b[0;34m\u001b[0m\u001b[0;34m\u001b[0m\u001b[0m\n\u001b[0;32m----> 8\u001b[0;31m     \u001b[0;32mwhile\u001b[0m \u001b[0mfactor\u001b[0m \u001b[0;34m<=\u001b[0m \u001b[0mn\u001b[0m\u001b[0;34m:\u001b[0m \u001b[0;31m# Factors are <= the number\u001b[0m\u001b[0;34m\u001b[0m\u001b[0;34m\u001b[0m\u001b[0m\n\u001b[0m\u001b[1;32m      9\u001b[0m         \u001b[0;32mif\u001b[0m \u001b[0mn\u001b[0m \u001b[0;34m%\u001b[0m \u001b[0mfactor\u001b[0m \u001b[0;34m==\u001b[0m \u001b[0;36m0\u001b[0m\u001b[0;34m:\u001b[0m \u001b[0;31m# Test to see if factor is a factor of n\u001b[0m\u001b[0;34m\u001b[0m\u001b[0;34m\u001b[0m\u001b[0m\n\u001b[1;32m     10\u001b[0m             \u001b[0mprint\u001b[0m\u001b[0;34m(\u001b[0m\u001b[0mfactor\u001b[0m\u001b[0;34m,\u001b[0m \u001b[0mend\u001b[0m\u001b[0;34m=\u001b[0m\u001b[0;34m' '\u001b[0m\u001b[0;34m)\u001b[0m \u001b[0;31m# If so, display it\u001b[0m\u001b[0;34m\u001b[0m\u001b[0;34m\u001b[0m\u001b[0m\n",
      "\u001b[0;31mKeyboardInterrupt\u001b[0m: "
     ]
    }
   ],
   "source": [
    "# Infinite loop (will keep running until the user forces the program to quit)\n",
    "# List the factors of the integers 1...MAX\n",
    "MAX = 20 # MAX is 20\n",
    "n = 1 # Start with 1\n",
    "while n <= MAX: # Do not go past MAX\n",
    "    factor = 1 # 1 is a factor of any integer\n",
    "    print(end=str(n) + ': ') # Which integer are we examining?\n",
    "    while factor <= n: # Factors are <= the number\n",
    "        if n % factor == 0: # Test to see if factor is a factor of n\n",
    "            print(factor, end=' ') # If so, display it\n",
    "            factor += 1 # Try the next number\n",
    "    print() # Move to next line for next n\n",
    "    n += 1"
   ]
  },
  {
   "cell_type": "code",
   "execution_count": 9,
   "metadata": {},
   "outputs": [
    {
     "name": "stdout",
     "output_type": "stream",
     "text": [
      "1: 1 \n",
      "2: 1 2 \n",
      "3: 1 3 \n",
      "4: 1 2 4 \n",
      "5: 1 5 \n",
      "6: 1 2 3 6 \n",
      "7: 1 7 \n",
      "8: 1 2 4 8 \n",
      "9: 1 3 9 \n",
      "10: 1 2 5 10 \n",
      "11: 1 11 \n",
      "12: 1 2 3 4 6 12 \n",
      "13: 1 13 \n",
      "14: 1 2 7 14 \n",
      "15: 1 3 5 15 \n",
      "16: 1 2 4 8 16 \n",
      "17: 1 17 \n",
      "18: 1 2 3 6 9 18 \n",
      "19: 1 19 \n",
      "20: 1 2 4 5 10 20 \n"
     ]
    }
   ],
   "source": [
    "# Fix the bug\n",
    "# List the factors of the integers 1...MAX\n",
    "MAX = 20 # MAX is 20\n",
    "n = 1 # Start with 1\n",
    "while n <= MAX: # Do not go past MAX\n",
    "    factor = 1 # 1 is a factor of any integer\n",
    "    print(end=str(n) + ': ') # Which integer are we examining?\n",
    "    while factor <= n: # Factors are <= the number\n",
    "        if n % factor == 0: # Test to see if factor is a factor of n\n",
    "            print(factor, end=' ') # If so, display it\n",
    "        factor += 1 # Try the next number\n",
    "    print() # Move to next line for next n\n",
    "    n += 1"
   ]
  },
  {
   "cell_type": "code",
   "execution_count": 10,
   "metadata": {},
   "outputs": [
    {
     "name": "stdout",
     "output_type": "stream",
     "text": [
      "1\n",
      "2\n",
      "3\n",
      "4\n",
      "5\n",
      "6\n"
     ]
    }
   ],
   "source": [
    "# The for statement\n",
    "for n in 1, 2, 3, 4, 5, 6:\n",
    "    print(n)"
   ]
  },
  {
   "cell_type": "code",
   "execution_count": 11,
   "metadata": {},
   "outputs": [
    {
     "name": "stdout",
     "output_type": "stream",
     "text": [
      "0\n",
      "1\n",
      "2\n",
      "3\n",
      "4\n",
      "5\n",
      "6\n",
      "7\n",
      "8\n",
      "9\n"
     ]
    }
   ],
   "source": [
    "for n in range(10):\n",
    "    print(n)"
   ]
  },
  {
   "cell_type": "code",
   "execution_count": 13,
   "metadata": {},
   "outputs": [
    {
     "name": "stdout",
     "output_type": "stream",
     "text": [
      "<class 'range'>\n"
     ]
    }
   ],
   "source": [
    "print(type(range(3)))"
   ]
  },
  {
   "cell_type": "code",
   "execution_count": 14,
   "metadata": {},
   "outputs": [
    {
     "name": "stdout",
     "output_type": "stream",
     "text": [
      "Please enter the table size: 10\n",
      "   1   2   3   4   5   6   7   8   9  10\n",
      "   2   4   6   8  10  12  14  16  18  20\n",
      "   3   6   9  12  15  18  21  24  27  30\n",
      "   4   8  12  16  20  24  28  32  36  40\n",
      "   5  10  15  20  25  30  35  40  45  50\n",
      "   6  12  18  24  30  36  42  48  54  60\n",
      "   7  14  21  28  35  42  49  56  63  70\n",
      "   8  16  24  32  40  48  56  64  72  80\n",
      "   9  18  27  36  45  54  63  72  81  90\n",
      "  10  20  30  40  50  60  70  80  90 100\n"
     ]
    }
   ],
   "source": [
    "# Get the number of rows and columns in the table\n",
    "size = int(input(\"Please enter the table size: \"))\n",
    "# Print a size x size multiplication table\n",
    "for row in range(1, size + 1):\n",
    "    for column in range(1, size + 1):\n",
    "        product = row*column # Compute product\n",
    "        print('{0:4}'.format(product), end='') # Display product\n",
    "    print() # Move cursor to next row"
   ]
  },
  {
   "cell_type": "code",
   "execution_count": 15,
   "metadata": {},
   "outputs": [
    {
     "name": "stdout",
     "output_type": "stream",
     "text": [
      "Please enter the table size: 10\n",
      "1 2 3 4 5 6 7 8 9 10 \n",
      "2 4 6 8 10 12 14 16 18 20 \n",
      "3 6 9 12 15 18 21 24 27 30 \n",
      "4 8 12 16 20 24 28 32 36 40 \n",
      "5 10 15 20 25 30 35 40 45 50 \n",
      "6 12 18 24 30 36 42 48 54 60 \n",
      "7 14 21 28 35 42 49 56 63 70 \n",
      "8 16 24 32 40 48 56 64 72 80 \n",
      "9 18 27 36 45 54 63 72 81 90 \n",
      "10 20 30 40 50 60 70 80 90 100 \n"
     ]
    }
   ],
   "source": [
    "# Get the number of rows and columns in the table without string formatting\n",
    "size = int(input(\"Please enter the table size: \"))\n",
    "# Print a size x size multiplication table\n",
    "for row in range(1, size + 1):\n",
    "    for column in range(1, size + 1):\n",
    "        product = row*column # Compute product\n",
    "        print(product, end=' ') # Display product\n",
    "    print() # Move cursor to next row"
   ]
  },
  {
   "cell_type": "code",
   "execution_count": 16,
   "metadata": {},
   "outputs": [
    {
     "name": "stdout",
     "output_type": "stream",
     "text": [
      "7 10000000\n"
     ]
    }
   ],
   "source": [
    "# String formatting\n",
    "print('{0} {1}'.format(7, 10**7))"
   ]
  },
  {
   "cell_type": "code",
   "execution_count": 17,
   "metadata": {},
   "outputs": [
    {
     "name": "stdout",
     "output_type": "stream",
     "text": [
      "10000000 7\n"
     ]
    }
   ],
   "source": [
    "print('{1} {0}'.format(7, 10**7))"
   ]
  },
  {
   "cell_type": "code",
   "execution_count": 18,
   "metadata": {},
   "outputs": [
    {
     "name": "stdout",
     "output_type": "stream",
     "text": [
      "7 10000000\n"
     ]
    }
   ],
   "source": [
    "print('{} {}'.format(7, 10**7))"
   ]
  },
  {
   "cell_type": "code",
   "execution_count": 19,
   "metadata": {},
   "outputs": [
    {
     "name": "stdout",
     "output_type": "stream",
     "text": [
      "7.0 8.1\n"
     ]
    }
   ],
   "source": [
    "print('{0} {1}'.format(7.0, 8.1))"
   ]
  },
  {
   "cell_type": "code",
   "execution_count": 21,
   "metadata": {},
   "outputs": [
    {
     "name": "stdout",
     "output_type": "stream",
     "text": [
      "axbycxd\n"
     ]
    }
   ],
   "source": [
    "print('a{0}b{1}c{0}d'.format('x', 'y'))"
   ]
  },
  {
   "cell_type": "code",
   "execution_count": 22,
   "metadata": {},
   "outputs": [
    {
     "ename": "IndexError",
     "evalue": "tuple index out of range",
     "output_type": "error",
     "traceback": [
      "\u001b[0;31m---------------------------------------------------------------------------\u001b[0m",
      "\u001b[0;31mIndexError\u001b[0m                                Traceback (most recent call last)",
      "\u001b[0;32m<ipython-input-22-06b34e5555fb>\u001b[0m in \u001b[0;36m<module>\u001b[0;34m\u001b[0m\n\u001b[1;32m      1\u001b[0m \u001b[0;31m# Get an error if there are more placehlders than the arguments\u001b[0m\u001b[0;34m\u001b[0m\u001b[0;34m\u001b[0m\u001b[0;34m\u001b[0m\u001b[0m\n\u001b[0;32m----> 2\u001b[0;31m \u001b[0mprint\u001b[0m\u001b[0;34m(\u001b[0m\u001b[0;34m'a{}b{}c{}d'\u001b[0m\u001b[0;34m.\u001b[0m\u001b[0mformat\u001b[0m\u001b[0;34m(\u001b[0m\u001b[0;34m'x'\u001b[0m\u001b[0;34m,\u001b[0m \u001b[0;34m'y'\u001b[0m\u001b[0;34m)\u001b[0m\u001b[0;34m)\u001b[0m\u001b[0;34m\u001b[0m\u001b[0;34m\u001b[0m\u001b[0m\n\u001b[0m",
      "\u001b[0;31mIndexError\u001b[0m: tuple index out of range"
     ]
    }
   ],
   "source": [
    "# Get an error if there are more placehlders than the arguments\n",
    "print('a{}b{}c{}d'.format('x', 'y'))"
   ]
  },
  {
   "cell_type": "code",
   "execution_count": 23,
   "metadata": {},
   "outputs": [
    {
     "name": "stdout",
     "output_type": "stream",
     "text": [
      "0 1\n",
      "1 10\n",
      "2 100\n",
      "3 1000\n",
      "4 10000\n",
      "5 100000\n",
      "6 1000000\n",
      "7 10000000\n",
      "8 100000000\n",
      "9 1000000000\n",
      "10 10000000000\n",
      "11 100000000000\n",
      "12 1000000000000\n",
      "13 10000000000000\n",
      "14 100000000000000\n",
      "15 1000000000000000\n"
     ]
    }
   ],
   "source": [
    "for i in range(16):\n",
    "    print('{0} {1}'.format(i, 10**i))"
   ]
  },
  {
   "cell_type": "code",
   "execution_count": 24,
   "metadata": {},
   "outputs": [
    {
     "name": "stdout",
     "output_type": "stream",
     "text": [
      "  0      1\n",
      "  1     10\n",
      "  2    100\n",
      "  3   1000\n",
      "  4  10000\n",
      "  5 100000\n"
     ]
    }
   ],
   "source": [
    "# By default, numbers are right-justified\n",
    "for i in range(6):\n",
    "    print('{0:3} {1:6}'.format(i, 10**i))"
   ]
  },
  {
   "cell_type": "code",
   "execution_count": 25,
   "metadata": {},
   "outputs": [
    {
     "name": "stdout",
     "output_type": "stream",
     "text": [
      "  0      1\n",
      "  1     10\n",
      "  2    100\n",
      "  3   1000\n",
      "  4  10000\n",
      "  5 100000\n"
     ]
    }
   ],
   "source": [
    "# Right-justified\n",
    "for i in range(6):\n",
    "    print('{0:>3} {1:>6}'.format(i, 10**i))"
   ]
  },
  {
   "cell_type": "code",
   "execution_count": 26,
   "metadata": {},
   "outputs": [
    {
     "name": "stdout",
     "output_type": "stream",
     "text": [
      "0   1     \n",
      "1   10    \n",
      "2   100   \n",
      "3   1000  \n",
      "4   10000 \n",
      "5   100000\n"
     ]
    }
   ],
   "source": [
    "# Left-justified\n",
    "for i in range(6):\n",
    "    print('{0:<3} {1:<6}'.format(i, 10**i))"
   ]
  },
  {
   "cell_type": "code",
   "execution_count": 27,
   "metadata": {},
   "outputs": [
    {
     "name": "stdout",
     "output_type": "stream",
     "text": [
      "0   1     \n",
      "1   10    \n",
      "2   100   \n",
      "3   1000  \n",
      "4   10000 \n",
      "5   100000\n"
     ]
    }
   ],
   "source": [
    "# By default, strings are left-justified\n",
    "for i in range(6):\n",
    "    print('{0:3} {1:6}'.format(str(i), str(10**i)))"
   ]
  },
  {
   "cell_type": "code",
   "execution_count": 28,
   "metadata": {},
   "outputs": [
    {
     "name": "stdout",
     "output_type": "stream",
     "text": [
      "0   1     \n",
      "1   10    \n",
      "2   100   \n",
      "3   1000  \n",
      "4   10000 \n",
      "5   100000\n"
     ]
    }
   ],
   "source": [
    "# Left-justified\n",
    "for i in range(6):\n",
    "    print('{0:<3} {1:<6}'.format(str(i), str(10**i)))"
   ]
  },
  {
   "cell_type": "code",
   "execution_count": 29,
   "metadata": {},
   "outputs": [
    {
     "name": "stdout",
     "output_type": "stream",
     "text": [
      "  0      1\n",
      "  1     10\n",
      "  2    100\n",
      "  3   1000\n",
      "  4  10000\n",
      "  5 100000\n"
     ]
    }
   ],
   "source": [
    "# Right-justified\n",
    "for i in range(6):\n",
    "    print('{0:>3} {1:>6}'.format(str(i), str(10**i)))"
   ]
  },
  {
   "cell_type": "code",
   "execution_count": 30,
   "metadata": {},
   "outputs": [
    {
     "name": "stdout",
     "output_type": "stream",
     "text": [
      "Enter numbers to sum, negative number ends list:\n",
      "2\n",
      "1\n",
      "-1\n",
      "Sum = 3\n"
     ]
    }
   ],
   "source": [
    "entry = 0 # Ensure the loop is entered\n",
    "sum = 0 # Initialize sum\n",
    "\n",
    "# Request input from the user\n",
    "print(\"Enter numbers to sum, negative number ends list:\")\n",
    "while entry >= 0: # A negative number exist the loop\n",
    "    entry = int(input()) # Get the value\n",
    "    if entry < 0: # Is number negative number?\n",
    "        break     # if so, exit the loop\n",
    "    sum += entry # Add entry to running sum\n",
    "print(\"Sum =\", sum) # Display the sum"
   ]
  },
  {
   "cell_type": "code",
   "execution_count": 31,
   "metadata": {},
   "outputs": [
    {
     "name": "stdout",
     "output_type": "stream",
     "text": [
      "Enter text (no X's, please): class\n",
      "a,  (1 vowels)\n"
     ]
    }
   ],
   "source": [
    "# counting the vowels\n",
    "\n",
    "word = input('Enter text (no X\\'s, please): ')\n",
    "vowel_count = 0\n",
    "for c in word:\n",
    "    if c == 'A' or c == 'a' or c == 'E' or c == 'e' \\\n",
    "        or c == 'I' or c == 'i' or c == 'O' or c == 'o':\n",
    "        print(c, ', ', sep='', end='') # Print the vowel\n",
    "        vowel_count += 1 # Count the vowel\n",
    "    elif c == 'X' or c =='x':\n",
    "        break\n",
    "print(' (', vowel_count, ' vowels)', sep='')"
   ]
  },
  {
   "cell_type": "code",
   "execution_count": 32,
   "metadata": {},
   "outputs": [
    {
     "name": "stdout",
     "output_type": "stream",
     "text": [
      "Enter positive integer (999 quits):2\n",
      "Tallying 2\n",
      "Enter positive integer (999 quits):7\n",
      "Tallying 7\n",
      "Enter positive integer (999 quits):999\n",
      "sum = 9\n"
     ]
    }
   ],
   "source": [
    "sum = 0\n",
    "done = False\n",
    "\n",
    "while not done:\n",
    "    val = int(input(\"Enter positive integer (999 quits):\"))\n",
    "    if val < 0:\n",
    "        print(\"Negative value\", val, \"ignored\")\n",
    "        continue # Skip rest of body for this iteration\n",
    "    if val != 999:\n",
    "        print(\"Tallying\", val)\n",
    "        sum += val\n",
    "    else:\n",
    "        done = (val == 999) # 999 entry exits loop\n",
    "print(\"sum =\", sum)"
   ]
  },
  {
   "cell_type": "code",
   "execution_count": 33,
   "metadata": {},
   "outputs": [
    {
     "name": "stdout",
     "output_type": "stream",
     "text": [
      "Enter height of tree: 5\n",
      "     *\n",
      "    ***\n",
      "   *****\n",
      "  *******\n",
      " *********\n"
     ]
    }
   ],
   "source": [
    "# Draw a tree with the while loop\n",
    "# Get tree height from user\n",
    "height = int(input('Enter height of tree: '))\n",
    "\n",
    "# Draw one row for every unit of height\n",
    "row = 0\n",
    "while row < height:\n",
    "    # Print leading spaces; as row gets bigger, the number of\n",
    "    # leading spaces gets smaller\n",
    "    count = 0\n",
    "    while count < height - row:\n",
    "        print(end=' ')\n",
    "        count += 1\n",
    "        \n",
    "    # Print out stars, twice the current row plus one:\n",
    "    # 1. number of stars on left side of tree\n",
    "    # = current row value\n",
    "    # 2. exactly one star in the center of tree\n",
    "    # 3. number of stars on right side of tree\n",
    "    # = current row value\n",
    "    count = 0\n",
    "    while count < 2*row + 1:\n",
    "        print(end='*')\n",
    "        count += 1\n",
    "    # Move cursor down to next line\n",
    "    print()\n",
    "    row += 1 # Consider next row"
   ]
  },
  {
   "cell_type": "code",
   "execution_count": 34,
   "metadata": {},
   "outputs": [
    {
     "name": "stdout",
     "output_type": "stream",
     "text": [
      "Enter height of tree: 7\n",
      "       *\n",
      "      ***\n",
      "     *****\n",
      "    *******\n",
      "   *********\n",
      "  ***********\n",
      " *************\n"
     ]
    }
   ],
   "source": [
    "# Draw a tree with the for loop\n",
    "# Get tree height from user\n",
    "height = int(input('Enter height of tree: '))\n",
    "\n",
    "# Draw one row for every unit of height\n",
    "for row in range(height):\n",
    "    # Print leading spaces; as row gets bigger, the number of\n",
    "    # leading spaces gets smaller\n",
    "    for count in range(height - row):\n",
    "        print(end=' ')\n",
    "        \n",
    "    # Print out stars, twice the current row plus one:\n",
    "    # 1. number of stars on left side of tree\n",
    "    # = current row value\n",
    "    # 2. exactly one star in the center of tree\n",
    "    # 3. number of stars on right side of tree\n",
    "    # = current row value\n",
    "    for count in range(2*row + 1):\n",
    "        print(end='*')\n",
    "    # Move cursor down to next line\n",
    "    print()"
   ]
  },
  {
   "cell_type": "code",
   "execution_count": 35,
   "metadata": {},
   "outputs": [
    {
     "name": "stdout",
     "output_type": "stream",
     "text": [
      "Display primes up to what value? 20\n",
      "2 3 5 7 11 13 17 19 \n"
     ]
    }
   ],
   "source": [
    "# Print prime numbers with the while loop\n",
    "max_value = int(input('Display primes up to what value? '))\n",
    "value = 2 # Smallest prime number\n",
    "\n",
    "while value <= max_value:\n",
    "    # See if value is prime\n",
    "    is_prime = True # Provisionally, value is prime\n",
    "    # Try all possible factors from 2 to value - 1\n",
    "    trial_factor = 2\n",
    "    while trial_factor < value:\n",
    "        if value % trial_factor == 0:\n",
    "            is_prime = False # Found a factor\n",
    "            break # No need to continue; it is NOT prime\n",
    "        trial_factor += 1 # Try the next potential factor\n",
    "        \n",
    "    if is_prime:\n",
    "        print(value, end= ' ') # Display the prime number\n",
    "    value += 1 # Try the next potential prime number\n",
    "print() # Move cursor down to next line"
   ]
  },
  {
   "cell_type": "code",
   "execution_count": 36,
   "metadata": {},
   "outputs": [
    {
     "name": "stdout",
     "output_type": "stream",
     "text": [
      "Display primes up to what value? 20\n",
      "2 3 5 7 11 13 17 19 \n"
     ]
    }
   ],
   "source": [
    "# Print prime numbers with the for loop\n",
    "max_value = int(input('Display primes up to what value? '))\n",
    "\n",
    "# Try values from 2 (smallest prime number) to max_value\n",
    "for value in range(2, max_value + 1):\n",
    "    # See if value is prime\n",
    "    is_prime = True # Provisionally, value is prime\n",
    "    # Try all possible factors from 2 to value - 1\n",
    "    for trial_factor in range(2, value):\n",
    "        if value % trial_factor == 0:\n",
    "            is_prime = False # Found a factor\n",
    "            break # No need to continue; it is NOT prime\n",
    "            \n",
    "    if is_prime:\n",
    "        print(value, end= ' ') # Display the prime number\n",
    "print() # Move cursor down to next line"
   ]
  },
  {
   "cell_type": "code",
   "execution_count": null,
   "metadata": {},
   "outputs": [],
   "source": []
  }
 ],
 "metadata": {
  "kernelspec": {
   "display_name": "Python 3",
   "language": "python",
   "name": "python3"
  },
  "language_info": {
   "codemirror_mode": {
    "name": "ipython",
    "version": 3
   },
   "file_extension": ".py",
   "mimetype": "text/x-python",
   "name": "python",
   "nbconvert_exporter": "python",
   "pygments_lexer": "ipython3",
   "version": "3.8.5"
  }
 },
 "nbformat": 4,
 "nbformat_minor": 2
}
