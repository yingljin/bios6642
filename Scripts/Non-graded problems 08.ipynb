{
 "cells": [
  {
   "cell_type": "code",
   "execution_count": 2,
   "metadata": {},
   "outputs": [],
   "source": [
    "#Q1\n",
    "\n",
    "# With count method\n",
    "# count method only count non-overlapping substrings\n",
    "def count_substr(str1, str2):\n",
    "    \n",
    "    # set str2 as the shorter one\n",
    "    if len(str2) > len(str1):\n",
    "        str1, str2 = str2, str1\n",
    "        \n",
    "    # count appearance\n",
    "    return(str1.count(str2))\n"
   ]
  },
  {
   "cell_type": "code",
   "execution_count": 3,
   "metadata": {},
   "outputs": [
    {
     "data": {
      "text/plain": [
       "1"
      ]
     },
     "execution_count": 3,
     "metadata": {},
     "output_type": "execute_result"
    }
   ],
   "source": [
    "count_substr('banana', 'ana')"
   ]
  },
  {
   "cell_type": "code",
   "execution_count": 6,
   "metadata": {},
   "outputs": [],
   "source": [
    "# Without count method\n",
    "\n",
    "def count_substr2(str1, str2):\n",
    "    \n",
    "    l1 = len(str1)\n",
    "    l2 = len(str2)\n",
    "    \n",
    "    # set str2 as the shorter one\n",
    "    if l2 > l1:\n",
    "        str1, str2 = str2, str1\n",
    "        \n",
    "    # count appearance\n",
    "    times = 0\n",
    "    for i in range(0, l1):\n",
    "        if str1[i:i+l2] == str2:\n",
    "            times = times+1\n",
    "    return times"
   ]
  },
  {
   "cell_type": "code",
   "execution_count": 7,
   "metadata": {},
   "outputs": [
    {
     "data": {
      "text/plain": [
       "2"
      ]
     },
     "execution_count": 7,
     "metadata": {},
     "output_type": "execute_result"
    }
   ],
   "source": [
    "count_substr2('banana', 'ana')"
   ]
  },
  {
   "cell_type": "code",
   "execution_count": 54,
   "metadata": {},
   "outputs": [],
   "source": [
    "# Q2\n",
    "\n",
    "## Isnteading of removing character from string 1\n",
    "## We can try to keep the charaters that are not in string 2\n",
    "\n",
    "\n",
    "def remove_str(str1, str2):\n",
    "    \n",
    "    # for each character in string 1\n",
    "    i = 0\n",
    "    while i<len(str1):\n",
    "        if str1[i] in str2:\n",
    "            if i==0:\n",
    "                str1 = str1[i+1:]\n",
    "            elif i==len(str1)-1:\n",
    "                str1 = str1[:i]\n",
    "            else:\n",
    "                str1 = str1[:i]+str1[i+1:]\n",
    "        else:\n",
    "            i = i+1\n",
    "    return str1"
   ]
  },
  {
   "cell_type": "code",
   "execution_count": 57,
   "metadata": {},
   "outputs": [
    {
     "data": {
      "text/plain": [
       "'mzon'"
      ]
     },
     "execution_count": 57,
     "metadata": {},
     "output_type": "execute_result"
    }
   ],
   "source": [
    "remove_str('amazon','ebay')"
   ]
  },
  {
   "cell_type": "code",
   "execution_count": 49,
   "metadata": {},
   "outputs": [],
   "source": [
    "str1 = 'computer'\n",
    "str2 = 'python'"
   ]
  },
  {
   "cell_type": "code",
   "execution_count": 52,
   "metadata": {},
   "outputs": [
    {
     "name": "stdout",
     "output_type": "stream",
     "text": [
      "o\n",
      "p\n",
      "t\n"
     ]
    }
   ],
   "source": [
    "l1 = len(str1)\n",
    "for i in range(0, l1):\n",
    "    if str1[i] in str2:\n",
    "        str1[:i]+str1[i+1:]"
   ]
  },
  {
   "cell_type": "code",
   "execution_count": 8,
   "metadata": {},
   "outputs": [],
   "source": [
    "# Q2_2\n",
    "\n",
    "def remove_str2(str1, str2):\n",
    "    \n",
    "    # for each character in string 1\n",
    "    new_str = ''\n",
    "    for char in str1:\n",
    "        if char not in str2:\n",
    "            new_str = new_str+char\n",
    "    return new_str"
   ]
  },
  {
   "cell_type": "code",
   "execution_count": 9,
   "metadata": {},
   "outputs": [
    {
     "data": {
      "text/plain": [
       "'mzon'"
      ]
     },
     "execution_count": 9,
     "metadata": {},
     "output_type": "execute_result"
    }
   ],
   "source": [
    "remove_str2('amazon','ebay')"
   ]
  }
 ],
 "metadata": {
  "kernelspec": {
   "display_name": "Python 3",
   "language": "python",
   "name": "python3"
  },
  "language_info": {
   "codemirror_mode": {
    "name": "ipython",
    "version": 3
   },
   "file_extension": ".py",
   "mimetype": "text/x-python",
   "name": "python",
   "nbconvert_exporter": "python",
   "pygments_lexer": "ipython3",
   "version": "3.8.5"
  }
 },
 "nbformat": 4,
 "nbformat_minor": 4
}
