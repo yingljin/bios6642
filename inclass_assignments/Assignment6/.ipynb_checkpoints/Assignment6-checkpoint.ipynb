{
 "cells": [
  {
   "cell_type": "code",
   "execution_count": 78,
   "metadata": {},
   "outputs": [],
   "source": [
    "# Q1\n",
    "\n",
    "def get_ave(lst):\n",
    "    \n",
    "    # check length of list\n",
    "    if len(lst)<1 or len(lst)>100:\n",
    "        return('Input length out of range')\n",
    "    \n",
    "    # input must be a list of tuples \n",
    "    # tuples cannot be empty\n",
    "    for x in lst:\n",
    "        if type(x)!=tuple or len(x)==0:\n",
    "            return('Input must be non-empty tuples')\n",
    "    \n",
    "    # calculate average of each tuple\n",
    "    ave_lst = []\n",
    "    for x in lst:\n",
    "        s = 0\n",
    "        l = len(x)\n",
    "        for y in x:\n",
    "            s = s+y\n",
    "        ave_lst.append(s/l)\n",
    "    \n",
    "    return(ave_lst)"
   ]
  },
  {
   "cell_type": "code",
   "execution_count": 79,
   "metadata": {},
   "outputs": [
    {
     "name": "stdout",
     "output_type": "stream",
     "text": [
      "[2.0, 0.5, 10.0]\n",
      "[5.1, 1.2]\n",
      "[15.5, 8.666666666666666, 8.666666666666666]\n",
      "Input must be non-empty tuples\n",
      "Input must be non-empty tuples\n",
      "Input length out of range\n"
     ]
    }
   ],
   "source": [
    "print(get_ave([(1.0, 2.0, 3.0), (-1.0, 2.0), (10.1, -20.2, 30.1, 20.0)]))\n",
    "print(get_ave([(10.0, 0.2), (0.2, -0.1, 3.5)]))\n",
    "print(get_ave([(15.0, 16), (21, 1, 4), (3, 4, 19)]))\n",
    "print(get_ave([(15.0, 16), (21, 1, 4), ()]))\n",
    "print(get_ave([(15.0, 16), (21, 1, 4), [3, 4, 19]]))\n",
    "print(get_ave([]))"
   ]
  },
  {
   "cell_type": "code",
   "execution_count": 64,
   "metadata": {},
   "outputs": [],
   "source": [
    "# Q2\n",
    "\n",
    "import os\n",
    "\n",
    "# read the file\n",
    "f = open('document.txt', 'r')\n",
    "f_str = f.read()\n",
    "\n",
    "# clean up punctuations \n",
    "f_str = f_str.replace(\",\", \"\")\n",
    "f_str = f_str.replace(\".\", \"\")\n",
    "f_str = f_str.replace(\";\", \"\")\n",
    "f_str = f_str.replace(\":\", \"\")\n",
    "f_str = f_str.replace(\"-- \", \"\")\n",
    "f_str = f_str.replace(\"\\n\", \" \")\n",
    "f_str = f_str.replace(\"  \", \" \")\n",
    "\n",
    "\n",
    "# split into list of words\n",
    "f_list = f_str.split(\" \")"
   ]
  },
  {
   "cell_type": "code",
   "execution_count": 65,
   "metadata": {},
   "outputs": [],
   "source": [
    "# count frequencies\n",
    "word_freq = {}\n",
    "for x in f_list:\n",
    "    word_freq[x] = f_list.count(x)\n",
    "    \n",
    "# arrange in decreasing order\n",
    "sorted_word_keys = sorted(word_freq, key = lambda x: word_freq[x], reverse = True)"
   ]
  },
  {
   "cell_type": "code",
   "execution_count": 66,
   "metadata": {},
   "outputs": [
    {
     "name": "stdout",
     "output_type": "stream",
     "text": [
      "of 76\n",
      "the 75\n",
      "to 64\n",
      "and 55\n",
      "our 25\n",
      "for 20\n",
      "their 20\n",
      "has 20\n",
      "in 18\n",
      "He 18\n",
      "them 15\n",
      "a 15\n",
      "these 13\n",
      "by 13\n",
      "have 11\n",
      "us 11\n",
      "which 10\n",
      "that 10\n",
      "all 10\n",
      "is 10\n"
     ]
    }
   ],
   "source": [
    "# print the first 20\n",
    "for k in sorted_word_keys[0:20]:\n",
    "    print(k, word_freq[k], sep = \" \")"
   ]
  },
  {
   "cell_type": "code",
   "execution_count": 67,
   "metadata": {},
   "outputs": [
    {
     "name": "stdout",
     "output_type": "stream",
     "text": [
      "people 7\n",
      "right 5\n"
     ]
    }
   ],
   "source": [
    "# print frequency for \"people\" and \"right\"\n",
    "print(\"people\", word_freq['people'])\n",
    "print('right', word_freq['right'])"
   ]
  }
 ],
 "metadata": {
  "kernelspec": {
   "display_name": "Python 3",
   "language": "python",
   "name": "python3"
  },
  "language_info": {
   "codemirror_mode": {
    "name": "ipython",
    "version": 3
   },
   "file_extension": ".py",
   "mimetype": "text/x-python",
   "name": "python",
   "nbconvert_exporter": "python",
   "pygments_lexer": "ipython3",
   "version": "3.8.5"
  }
 },
 "nbformat": 4,
 "nbformat_minor": 4
}
