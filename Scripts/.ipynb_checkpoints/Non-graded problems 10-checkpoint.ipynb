{
 "cells": [
  {
   "cell_type": "code",
   "execution_count": 33,
   "metadata": {},
   "outputs": [],
   "source": [
    "# P1\n",
    "\n",
    "def func1(x, lst_tpl):\n",
    "    for tpl in lst_tpl:\n",
    "        if tpl == ():\n",
    "            return 'Error: Elements of list cannot be empty tuple'\n",
    "    \n",
    "    new_lst = []\n",
    "    for tpl in lst_tpl:\n",
    "        new_tpl = list(tpl)\n",
    "        new_tpl[-1] = x\n",
    "        new_tpl = tuple(new_tpl)\n",
    "        new_lst.append(new_tpl)\n",
    "    return new_lst"
   ]
  },
  {
   "cell_type": "code",
   "execution_count": 34,
   "metadata": {},
   "outputs": [
    {
     "data": {
      "text/plain": [
       "'Error: Elements of list cannot be empty tuple'"
      ]
     },
     "execution_count": 34,
     "metadata": {},
     "output_type": "execute_result"
    }
   ],
   "source": [
    "func1(100, [('a', 'b'), (1, 2), (15, 30), ()])"
   ]
  },
  {
   "cell_type": "code",
   "execution_count": 45,
   "metadata": {},
   "outputs": [],
   "source": [
    "# P2\n",
    "def func2(*nums):\n",
    "    if nums == ():\n",
    "        return {'Product':1.0, 'Average': 0.0}\n",
    "    \n",
    "    sum = 0\n",
    "    prod = 1\n",
    "    count = 0\n",
    "    for x in nums:\n",
    "        sum = sum+x\n",
    "        count = count+1\n",
    "        prod = prod*x\n",
    "    \n",
    "    \n",
    "    return {'Produce':prod, 'Average':sum/count}\n",
    "        \n"
   ]
  },
  {
   "cell_type": "code",
   "execution_count": 47,
   "metadata": {},
   "outputs": [
    {
     "data": {
      "text/plain": [
       "{'Product': 1.0, 'Average': 0.0}"
      ]
     },
     "execution_count": 47,
     "metadata": {},
     "output_type": "execute_result"
    }
   ],
   "source": [
    "func2()"
   ]
  },
  {
   "cell_type": "code",
   "execution_count": 55,
   "metadata": {},
   "outputs": [],
   "source": [
    "# P3\n",
    "\n",
    "def func3(lst):\n",
    "    new_set = set(lst)\n",
    "    return len(new_set) < len(lst)"
   ]
  },
  {
   "cell_type": "code",
   "execution_count": 60,
   "metadata": {},
   "outputs": [
    {
     "data": {
      "text/plain": [
       "False"
      ]
     },
     "execution_count": 60,
     "metadata": {},
     "output_type": "execute_result"
    }
   ],
   "source": [
    "func3(['a', 1, 'c', 5, 12])"
   ]
  }
 ],
 "metadata": {
  "kernelspec": {
   "display_name": "Python 3",
   "language": "python",
   "name": "python3"
  },
  "language_info": {
   "codemirror_mode": {
    "name": "ipython",
    "version": 3
   },
   "file_extension": ".py",
   "mimetype": "text/x-python",
   "name": "python",
   "nbconvert_exporter": "python",
   "pygments_lexer": "ipython3",
   "version": "3.8.5"
  }
 },
 "nbformat": 4,
 "nbformat_minor": 4
}
