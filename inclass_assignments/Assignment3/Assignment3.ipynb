{
 "cells": [
  {
   "cell_type": "code",
   "execution_count": 38,
   "metadata": {},
   "outputs": [
    {
     "name": "stdout",
     "output_type": "stream",
     "text": [
      "34\n",
      "num1 =  34\n",
      "56\n",
      "num1 =  56\n",
      "1001\n",
      "num1 =  1001\n",
      "999\n",
      "num1 =  999\n"
     ]
    }
   ],
   "source": [
    "# Problem 1-1\n",
    "\n",
    "## Original code\n",
    "done = False\n",
    "num1 = 0\n",
    "num2 = 999\n",
    "\n",
    "while not done and  num1!=num2:\n",
    "    num1 = int(input())\n",
    "    if num1 < 0:\n",
    "        done = True\n",
    "    print('num1 = ', num1)\n"
   ]
  },
  {
   "cell_type": "code",
   "execution_count": 39,
   "metadata": {},
   "outputs": [
    {
     "name": "stdout",
     "output_type": "stream",
     "text": [
      "34\n",
      "num1 =  34\n",
      "56\n",
      "num1 =  56\n",
      "1001\n",
      "num1 =  1001\n",
      "999\n",
      "num1 =  999\n"
     ]
    }
   ],
   "source": [
    "## Revised code\n",
    "num1 = 0\n",
    "num2 = 999\n",
    "\n",
    "while num1!=num2:\n",
    "    num1 = int(input())\n",
    "    print('num1 = ', num1)\n",
    "    if num1 < 0:\n",
    "        break\n"
   ]
  },
  {
   "cell_type": "code",
   "execution_count": 42,
   "metadata": {},
   "outputs": [
    {
     "name": "stdout",
     "output_type": "stream",
     "text": [
      "1005\n",
      "num1 =  1005\n",
      "1004\n",
      "num1 =  1004\n",
      "1003\n",
      "num1 =  1003\n",
      "1002\n",
      "num1 =  1002\n",
      "1001\n",
      "num1 =  1001\n",
      "1000\n",
      "num1 =  1000\n",
      "99\n",
      "num1 =  99\n",
      "999\n",
      "num1 =  999\n",
      "number of postive even integers:  3\n"
     ]
    }
   ],
   "source": [
    "# Problem 1-2\n",
    "\n",
    "num1 = 0\n",
    "num2 = 999\n",
    "npos = 0\n",
    "\n",
    "while num1!=num2:\n",
    "    num1 = int(input())\n",
    "    print('num1 = ', num1)\n",
    "    if num1 < 0:\n",
    "        break\n",
    "    elif num1%2 == 0:\n",
    "        npos = npos+1\n",
    "\n",
    "print('number of positive even integers: ', npos)"
   ]
  },
  {
   "cell_type": "code",
   "execution_count": 1,
   "metadata": {},
   "outputs": [
    {
     "name": "stdout",
     "output_type": "stream",
     "text": [
      "provide number of columns: 5\n",
      "    *\n",
      "   **\n",
      "  ***\n",
      " ****\n",
      "*****\n",
      " ****\n",
      "  ***\n",
      "   **\n",
      "    *\n"
     ]
    }
   ],
   "source": [
    "# Problem 2\n",
    "\n",
    "## user provide number of columns\n",
    "ncol = int(input('provide number of columns: '))\n",
    "## get number of rows from ncol\n",
    "nrow = 2*ncol-1\n",
    "\n",
    "for i in range(1, int((nrow+1)/2)+1):\n",
    "    print(' '*(ncol-i)+'*'*i)\n",
    "for i in range(int((nrow+1)/2)+1, nrow+1):\n",
    "    print(' '*(ncol-nrow+i-1)+'*'*(nrow-i+1))"
   ]
  }
 ],
 "metadata": {
  "kernelspec": {
   "display_name": "Python 3",
   "language": "python",
   "name": "python3"
  },
  "language_info": {
   "codemirror_mode": {
    "name": "ipython",
    "version": 3
   },
   "file_extension": ".py",
   "mimetype": "text/x-python",
   "name": "python",
   "nbconvert_exporter": "python",
   "pygments_lexer": "ipython3",
   "version": "3.8.5"
  }
 },
 "nbformat": 4,
 "nbformat_minor": 4
}
