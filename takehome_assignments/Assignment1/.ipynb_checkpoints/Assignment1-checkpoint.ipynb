{
 "cells": [
  {
   "cell_type": "code",
   "execution_count": 11,
   "metadata": {},
   "outputs": [
    {
     "name": "stdout",
     "output_type": "stream",
     "text": [
      "Enter level of pattern (must be between 0 and 10): 7\n",
      "            1 \n",
      "          1 2 1 \n",
      "        1 2 3 2 1 \n",
      "      1 2 3 4 3 2 1 \n",
      "    1 2 3 4 5 4 3 2 1 \n",
      "  1 2 3 4 5 6 5 4 3 2 1 \n",
      "1 2 3 4 5 6 7 6 5 4 3 2 1 \n"
     ]
    }
   ],
   "source": [
    "# Question 1\n",
    "\n",
    "## Get level of input from user\n",
    "nrow = int(input('Enter level of pattern (must be between 0 and 10): '))\n",
    "ncol = 2*nrow-1\n",
    "\n",
    "## If level is valid\n",
    "## Then draw the pattern as instructed\n",
    "if nrow > 0 and nrow < 10:\n",
    "    for r in range(1,nrow+1):\n",
    "        print('  '*(nrow-r), end = '') # print spaces\n",
    "        for c in range(1,r+1):\n",
    "            print(c, end = ' ') # print the first half of this row\n",
    "        for c in range(r+1, 2*r):\n",
    "            print(2*r-c, end = ' ') # print the second half of this row\n",
    "        print()\n",
    "else:\n",
    "    print('Error: level of pattern out of range.')"
   ]
  },
  {
   "cell_type": "code",
   "execution_count": 12,
   "metadata": {},
   "outputs": [],
   "source": [
    "# Question 2\n",
    "\n",
    "## Function to test whether a number is panlindormic\n",
    "def if_palindromic(num):\n",
    "    \n",
    "    # negative numbers cannot be palindromic\n",
    "    if num < 0:\n",
    "        return False\n",
    "    \n",
    "    # find the number of digits\n",
    "    n_digit = 1\n",
    "    while num//10**n_digit!=0:\n",
    "        n_digit = n_digit+1\n",
    "    \n",
    "    # reverse num\n",
    "    new_num = 0\n",
    "    for i in range(1, n_digit+1):\n",
    "        this_digit = (num%10**i)//10**(i-1)\n",
    "        new_num = new_num+this_digit*10**(n_digit-i)\n",
    "    \n",
    "    if new_num == num:\n",
    "        return True\n",
    "    else:\n",
    "        return False"
   ]
  },
  {
   "cell_type": "code",
   "execution_count": 18,
   "metadata": {},
   "outputs": [
    {
     "data": {
      "text/plain": [
       "True"
      ]
     },
     "execution_count": 18,
     "metadata": {},
     "output_type": "execute_result"
    }
   ],
   "source": [
    "## Test this function\n",
    "if_palindromic(212)"
   ]
  },
  {
   "cell_type": "code",
   "execution_count": 19,
   "metadata": {},
   "outputs": [],
   "source": [
    "## Function to test whether a number is prime\n",
    "\n",
    "def if_prime(num):\n",
    "    # negative numbers and 0 cannot be prime numbers\n",
    "    if num > 1:\n",
    "        for i in range(2, num):\n",
    "            if num%i==0:\n",
    "                return False\n",
    "        return True\n",
    "    else:\n",
    "        return False\n"
   ]
  },
  {
   "cell_type": "code",
   "execution_count": 21,
   "metadata": {},
   "outputs": [
    {
     "data": {
      "text/plain": [
       "False"
      ]
     },
     "execution_count": 21,
     "metadata": {},
     "output_type": "execute_result"
    }
   ],
   "source": [
    "## Test this function\n",
    "if_prime(997)"
   ]
  },
  {
   "cell_type": "code",
   "execution_count": 15,
   "metadata": {},
   "outputs": [
    {
     "name": "stdout",
     "output_type": "stream",
     "text": [
      "Enter the upper bound: 1000\n",
      "2 3 5 7 11 101 131 151 181 191 313 353 373 383 727 757 787 797 919 929 "
     ]
    }
   ],
   "source": [
    "## Print all palindromic prime numbers up to a given number\n",
    "## User provide upper bound\n",
    "upb = int(input('Enter the upper bound: '))\n",
    "\n",
    "for i in range(1, upb+1):\n",
    "    if if_palindromic(i) and if_prime(i):\n",
    "        print(i, end = ' ')"
   ]
  },
  {
   "cell_type": "code",
   "execution_count": 22,
   "metadata": {},
   "outputs": [],
   "source": [
    "# Question 3\n",
    "\n",
    "def q3_func(p1, p2):\n",
    "    # set p1 as the smaller one, p2 as the larger one since p1<=p2\n",
    "    # if use input them in reverse order, this program will arrange them\n",
    "    if p1 > p2:\n",
    "        p1, p2 = p2, p1\n",
    "    \n",
    "    # input must be positive integers\n",
    "    if p1<=0 or p2<=0:\n",
    "        return('Error: input must be positive')\n",
    "    elif type(p1)!=int or type(p2)!=int:\n",
    "        return('Error: input must be integers')\n",
    "    \n",
    "    # get all the numbers we want to print    \n",
    "    for num in range(p1, p2+1):\n",
    "        result = True\n",
    "        n_digit = 0\n",
    "        while num//10**n_digit!=0:\n",
    "            # extract the current digit\n",
    "            this_digit = (num%10**(n_digit+1))//10**n_digit\n",
    "            # if the current digit is 0, return false since zero cannot be a divisor\n",
    "            # if this number is not divisible by the current digit, return false\n",
    "            if this_digit!=0 and num%this_digit==0:\n",
    "                n_digit = n_digit+1\n",
    "            else:\n",
    "                result = False\n",
    "                break\n",
    "        if result:\n",
    "            print(num, end = \" \")"
   ]
  },
  {
   "cell_type": "code",
   "execution_count": 23,
   "metadata": {},
   "outputs": [
    {
     "name": "stdout",
     "output_type": "stream",
     "text": [
      "33 36 44 48 "
     ]
    }
   ],
   "source": [
    "#### Test this function\n",
    "q3_func(50, 30)"
   ]
  }
 ],
 "metadata": {
  "kernelspec": {
   "display_name": "Python 3",
   "language": "python",
   "name": "python3"
  },
  "language_info": {
   "codemirror_mode": {
    "name": "ipython",
    "version": 3
   },
   "file_extension": ".py",
   "mimetype": "text/x-python",
   "name": "python",
   "nbconvert_exporter": "python",
   "pygments_lexer": "ipython3",
   "version": "3.8.5"
  }
 },
 "nbformat": 4,
 "nbformat_minor": 4
}
