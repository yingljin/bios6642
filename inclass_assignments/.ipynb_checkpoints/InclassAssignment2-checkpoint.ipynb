{
 "cells": [
  {
   "cell_type": "code",
   "execution_count": 6,
   "metadata": {},
   "outputs": [
    {
     "name": "stdout",
     "output_type": "stream",
     "text": [
      "Please enter the first integer: 14\n",
      "Please enter the second integer: 7\n",
      "Please enter the third integer: 87\n",
      "Please enter the fourth integer: 1\n",
      "Minimum:  1\n",
      "Maximum:  87\n"
     ]
    }
   ],
   "source": [
    "# Question 1\n",
    "\n",
    "# Ask use to input four integer values\n",
    "num1 = int(input('Please enter the first integer: '))\n",
    "num2 = int(input('Please enter the second integer: '))\n",
    "num3 = int(input('Please enter the third integer: '))\n",
    "num4 = int(input('Please enter the fourth integer: '))\n",
    "\n",
    "# find the minimum of the four integers\n",
    "min = num1\n",
    "if min <= num2:\n",
    "    min = num1\n",
    "else :\n",
    "    min = num2\n",
    "\n",
    "if min <= num3:\n",
    "    pass\n",
    "else: \n",
    "    min = num3\n",
    "\n",
    "if min <= num4:\n",
    "    pass\n",
    "else: \n",
    "    min = num4\n",
    "\n",
    "print('Minimum: ', min)\n",
    "\n",
    "# find the maximum of the four integers\n",
    "max = num1\n",
    "if min <= num2:\n",
    "    max = num2\n",
    "else :\n",
    "    max = num1\n",
    "\n",
    "if max <= num3:\n",
    "    max = num3\n",
    "\n",
    "if max <= num4:\n",
    "    max = num4\n",
    "\n",
    "print('Maximum: ', max)\n",
    "\n"
   ]
  },
  {
   "cell_type": "code",
   "execution_count": 14,
   "metadata": {},
   "outputs": [
    {
     "name": "stdout",
     "output_type": "stream",
     "text": [
      "Please enter a loating-point value: 10\n",
      "Please enter a loating-point value: 20\n",
      "Please enter a loating-point value: 30\n",
      "Please enter a loating-point value: -15\n",
      "Please enter a loating-point value: 0\n",
      "Average:  20.0\n",
      "Minimum:  10.0\n",
      "Maximum:  30.0\n"
     ]
    }
   ],
   "source": [
    "# Question 2\n",
    "\n",
    "# initialize\n",
    "num = float(input('Please enter a loating-point value: '))\n",
    "sums = 0\n",
    "ave = 0\n",
    "min2 = num\n",
    "max2 = num\n",
    "iters = 1\n",
    "\n",
    "while num!= 0:\n",
    "    if num > 0:\n",
    "        sums = sums+num\n",
    "        ave = sums/iters\n",
    "        if num <= min2:\n",
    "            min2 = num\n",
    "        if num >= max2:\n",
    "            max2 = num\n",
    "        iters = iters + 1\n",
    "    num = float(input('Please enter a loating-point value: '))       \n",
    "        \n",
    "    \n",
    "print('Average: ', ave)\n",
    "print('Minimum: ', min2)\n",
    "print('Maximum: ', max2)    \n",
    "\n"
   ]
  },
  {
   "cell_type": "code",
   "execution_count": 64,
   "metadata": {},
   "outputs": [
    {
     "name": "stdout",
     "output_type": "stream",
     "text": [
      "Please enter number of rows: 6\n",
      "Please enter number of cols: 6\n",
      "+-----+\n",
      "|     |\n",
      "|     |\n",
      "|     |\n",
      "|     |\n",
      "+-----+\n"
     ]
    }
   ],
   "source": [
    "# Question 3\n",
    "\n",
    "# get number of rows and colums from user\n",
    "nrow = int(input('Please enter number of rows: '))\n",
    "ncol = int(input('Please enter number of cols: '))\n",
    "\n",
    "# when number of rows 2\n",
    "if nrow <= 2:\n",
    "    if ncol <= 2:\n",
    "        for i in range(1, nrow+1):\n",
    "            for j in range(1, ncol):\n",
    "                print(\"+\", end = \"\")\n",
    "            print(\"+\", end = \"\\n\")\n",
    "    else: \n",
    "        for i in range(1, nrow+1):\n",
    "            print(\"+\", end = \"\")\n",
    "            for j in range(1, ncol):\n",
    "                print(\"-\", end = \"\")\n",
    "            print(\"+\", end = \"\\n\")\n",
    "else: # when number of rows are. greater than 2\n",
    "    if ncol <= 2:\n",
    "        for i in range(1, ncol):\n",
    "            print(\"+\", end = \"\")\n",
    "        print(\"+\", sep = \"\\n\")\n",
    "        for j in range(2, nrow):\n",
    "            for i in range(1, ncol):\n",
    "                print(\"|\", end = \"\")\n",
    "            print(\"|\", end = \"\\n\")\n",
    "        for i in range(1, ncol):\n",
    "            print(\"+\", end = \"\")\n",
    "        print(\"+\", sep = \"\\n\")\n",
    "    if ncol > 2:\n",
    "        print(\"+\", end = \"\")\n",
    "        for i in range(1, ncol):\n",
    "            print(\"-\", end = \"\")\n",
    "        print(\"+\", sep = \"\\n\")\n",
    "        for j in range(2, nrow):\n",
    "            print(\"|\", end = \"\")\n",
    "            for i in range(1, ncol):\n",
    "                print(\" \", end = \"\")\n",
    "            print(\"|\", end = \"\\n\")\n",
    "        print(\"+\", end = \"\")\n",
    "        for i in range(1, ncol):\n",
    "            print(\"-\", end = \"\")\n",
    "        print(\"+\", sep = \"\\n\")"
   ]
  },
  {
   "cell_type": "code",
   "execution_count": null,
   "metadata": {},
   "outputs": [],
   "source": []
  }
 ],
 "metadata": {
  "kernelspec": {
   "display_name": "Python 3",
   "language": "python",
   "name": "python3"
  },
  "language_info": {
   "codemirror_mode": {
    "name": "ipython",
    "version": 3
   },
   "file_extension": ".py",
   "mimetype": "text/x-python",
   "name": "python",
   "nbconvert_exporter": "python",
   "pygments_lexer": "ipython3",
   "version": "3.8.5"
  }
 },
 "nbformat": 4,
 "nbformat_minor": 4
}
