{
 "cells": [
  {
   "cell_type": "code",
   "execution_count": 1,
   "metadata": {},
   "outputs": [],
   "source": [
    "# Q1\n",
    "\n",
    "def find_sub_str(my_str):\n",
    "    sub_str = ''\n",
    "    for i in range(0, len(my_str)-1):\n",
    "        this_sub_str = my_str[i]\n",
    "        for j in my_str[i+1:]:\n",
    "            if not j in this_sub_str:\n",
    "                this_sub_str = this_sub_str+j\n",
    "            else:\n",
    "                break\n",
    "        if len(this_sub_str)>len(sub_str):\n",
    "            sub_str = this_sub_str\n",
    "    return(len(sub_str))\n",
    "\n",
    "        "
   ]
  },
  {
   "cell_type": "code",
   "execution_count": 2,
   "metadata": {},
   "outputs": [
    {
     "name": "stdout",
     "output_type": "stream",
     "text": [
      "6\n",
      "1\n",
      "3\n",
      "5\n",
      "3\n",
      "3\n"
     ]
    }
   ],
   "source": [
    "# test this function\n",
    "print(find_sub_str('python'))\n",
    "print(find_sub_str('aaa'))\n",
    "print(find_sub_str('aa*b'))\n",
    "print(find_sub_str('asdfsAb'))\n",
    "print(find_sub_str('banana'))\n",
    "print(find_sub_str('apple'))"
   ]
  },
  {
   "cell_type": "code",
   "execution_count": 4,
   "metadata": {},
   "outputs": [],
   "source": [
    "# Q2\n",
    "\n",
    "# write a function to calculate number of ways\n",
    "# use recursion \n",
    "# since the first step must be 1 and 2\n",
    "# we can calculate the number of ways after taking either of these steps\n",
    "# and sum them together\n",
    "def find_num_ways(x):\n",
    "    \n",
    "    # only one way if move 1 unit\n",
    "    if x==1:\n",
    "        num_ways = 1\n",
    "    \n",
    "    # two ways if move 2 units: 1+1 or 2\n",
    "    elif x==2:\n",
    "        num_ways = 2\n",
    "    # more than two units\n",
    "    else:\n",
    "        num_ways = find_num_ways(x-1)+find_num_ways(x-2)\n",
    "    \n",
    "    return num_ways\n",
    "    \n",
    "\n"
   ]
  },
  {
   "cell_type": "code",
   "execution_count": 5,
   "metadata": {},
   "outputs": [
    {
     "name": "stdout",
     "output_type": "stream",
     "text": [
      "Enter a positive integer: 4\n",
      "Number of ways: 5\n"
     ]
    }
   ],
   "source": [
    "# test this function\n",
    "# user provide input\n",
    "\n",
    "x = int(input('Enter a positive integer: '))\n",
    "\n",
    "if x > 0:\n",
    "    print('Number of ways:', find_num_ways(x)) \n",
    "else:\n",
    "    print('Error: input must be positive')\n",
    "    "
   ]
  },
  {
   "cell_type": "code",
   "execution_count": 11,
   "metadata": {},
   "outputs": [],
   "source": [
    "# Q3\n",
    "\n",
    "def remove_adj_adp(my_str):\n",
    "    new_str = my_str.lower()\n",
    "    l = len(new_str)\n",
    "    \n",
    "    # more than two characters\n",
    "    i = 0\n",
    "    while i < l-2:\n",
    "        if l > 2 and new_str[i] == new_str[i+1]:\n",
    "            if i == 0:\n",
    "                new_str = new_str[i+2: ]\n",
    "            elif i == l-2:\n",
    "                new_str = new_str[:i]\n",
    "            else:\n",
    "                new_str = new_str[:i]+new_str[i+2: ]\n",
    "            i = 0\n",
    "            l = len(new_str)\n",
    "        else:\n",
    "            i = i+1\n",
    "            \n",
    "    # single character\n",
    "    if l == 1:\n",
    "        return new_str\n",
    "    \n",
    "    # two characters\n",
    "    if l == 2 and new_str[0] != new_str[1]:\n",
    "        return new_str\n",
    "    elif l == 2 and new_str[0] == new_str[1]:\n",
    "        return new_str[0]\n",
    "        \n",
    "    return new_str\n"
   ]
  },
  {
   "cell_type": "code",
   "execution_count": 12,
   "metadata": {},
   "outputs": [
    {
     "name": "stdout",
     "output_type": "stream",
     "text": [
      "xa\n",
      "xyx\n",
      "x\n",
      "x\n",
      "z\n",
      "banana\n",
      "ale\n"
     ]
    }
   ],
   "source": [
    "print(remove_adj_adp('xyzzya'))\n",
    "print(remove_adj_adp('xyx'))\n",
    "print(remove_adj_adp('xxx'))\n",
    "print(remove_adj_adp('xXx'))\n",
    "print(remove_adj_adp('xxxYyxZ'))\n",
    "print(remove_adj_adp('banana'))\n",
    "print(remove_adj_adp('apple'))"
   ]
  }
 ],
 "metadata": {
  "kernelspec": {
   "display_name": "Python 3",
   "language": "python",
   "name": "python3"
  },
  "language_info": {
   "codemirror_mode": {
    "name": "ipython",
    "version": 3
   },
   "file_extension": ".py",
   "mimetype": "text/x-python",
   "name": "python",
   "nbconvert_exporter": "python",
   "pygments_lexer": "ipython3",
   "version": "3.8.5"
  }
 },
 "nbformat": 4,
 "nbformat_minor": 4
}
