{
 "cells": [
  {
   "cell_type": "code",
   "execution_count": 2,
   "metadata": {},
   "outputs": [
    {
     "name": "stdout",
     "output_type": "stream",
     "text": [
      "+-+-+-+-+-+-+-+-+-+-+-+-+-+-+-+-+-+-+-+-\n"
     ]
    }
   ],
   "source": [
    "# problem 1\n",
    "for a in range(-20, 20, 2):\n",
    "    print('+-', end = '')\n",
    "print()"
   ]
  },
  {
   "cell_type": "code",
   "execution_count": 3,
   "metadata": {},
   "outputs": [
    {
     "name": "stdout",
     "output_type": "stream",
     "text": [
      "+-+-+-+-+-+-+-+-+-+-+-+-+-+-+-+-+-+-+-+-\n"
     ]
    }
   ],
   "source": [
    "# revise using while\n",
    "a = -20\n",
    "\n",
    "while a < 20:\n",
    "    print('+-',end = '')\n",
    "    a = a+2\n",
    "print()"
   ]
  },
  {
   "cell_type": "code",
   "execution_count": null,
   "metadata": {},
   "outputs": [],
   "source": [
    "# problem 2\n",
    "\n",
    "# Remove continue\n",
    "a = 5\n",
    "\n",
    "while a > 0:\n",
    "    b = int(input())\n",
    "    if b != 30:\n",
    "        a = a-1\n",
    "        print('a = ', a)"
   ]
  },
  {
   "cell_type": "code",
   "execution_count": 19,
   "metadata": {},
   "outputs": [
    {
     "name": "stdout",
     "output_type": "stream",
     "text": [
      "4\n",
      "a =  4\n",
      "3\n",
      "a =  3\n",
      "30\n",
      "35\n",
      "a =  2\n",
      "-1\n"
     ]
    }
   ],
   "source": [
    "# Further revise\n",
    "a = 5\n",
    "\n",
    "while a > 0:\n",
    "    b = int(input())\n",
    "    if b > 0 and b != 30:\n",
    "        a = a-1\n",
    "        print('a = ', a)\n",
    "    elif b < 0:\n",
    "        break\n",
    "    else:\n",
    "        pass"
   ]
  },
  {
   "cell_type": "code",
   "execution_count": 33,
   "metadata": {},
   "outputs": [
    {
     "name": "stdout",
     "output_type": "stream",
     "text": [
      "enter height:6\n",
      "* * * * * * \n",
      " * * * * * \n",
      "  * * * * \n",
      "   * * * \n",
      "    * * \n",
      "     * \n"
     ]
    }
   ],
   "source": [
    "## problem 3\n",
    "\n",
    "l = int(input('enter height:'))\n",
    "\n",
    "for r in range(l, 0, -1):\n",
    "    print(' '*(l-r), end = '')\n",
    "    print('* '*r, end = '')\n",
    "    print()"
   ]
  },
  {
   "cell_type": "code",
   "execution_count": null,
   "metadata": {},
   "outputs": [],
   "source": []
  }
 ],
 "metadata": {
  "kernelspec": {
   "display_name": "Python 3",
   "language": "python",
   "name": "python3"
  },
  "language_info": {
   "codemirror_mode": {
    "name": "ipython",
    "version": 3
   },
   "file_extension": ".py",
   "mimetype": "text/x-python",
   "name": "python",
   "nbconvert_exporter": "python",
   "pygments_lexer": "ipython3",
   "version": "3.8.5"
  }
 },
 "nbformat": 4,
 "nbformat_minor": 4
}
