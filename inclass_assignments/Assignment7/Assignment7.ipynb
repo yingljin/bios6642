{
 "cells": [
  {
   "cell_type": "code",
   "execution_count": 98,
   "metadata": {},
   "outputs": [
    {
     "name": "stdout",
     "output_type": "stream",
     "text": [
      "File text is not convertible to integers\n",
      "[1, 15, 0]\n"
     ]
    }
   ],
   "source": [
    "# Q1\n",
    "\n",
    "try:\n",
    "    lst = [0, 0, 0]\n",
    "    with open('test_data.txt', 'r') as file:\n",
    "        count = 0\n",
    "        for line in file.readlines():\n",
    "            lst[count] = int(line)\n",
    "            count += 1\n",
    "except FileNotFoundError:\n",
    "    print('No such file in work directory')\n",
    "except ValueError:\n",
    "    print('File text is not convertible to integers')\n",
    "except IndexError:\n",
    "    print('Length of file is longer than the capacity of list')\n",
    "finally:\n",
    "    print(lst)"
   ]
  },
  {
   "cell_type": "code",
   "execution_count": 96,
   "metadata": {},
   "outputs": [],
   "source": [
    "# Q2\n",
    "\n",
    "class Rectangle:\n",
    "    \n",
    "    # initialize\n",
    "    def __init__(self, bl_corner, w, h):\n",
    "        self.bl_corner = bl_corner\n",
    "        if type(w)==int and type(h)==int and w>0 and h>0:\n",
    "            self.w = w\n",
    "            self.h = h\n",
    "        else:\n",
    "            raise ValueError('Width and height must be positive integers')\n",
    "            \n",
    "    def is_inside(self, point):\n",
    "        dx = point[0]-self.bl_corner[0]\n",
    "        dy = point[1]-self.bl_corner[1]\n",
    "        if dx <=self.w and dx>=0 and dy<=self.h and dy>=0:\n",
    "            return True\n",
    "        else:\n",
    "            return False\n",
    "    \n",
    "    def get_overlap_area(self, other):\n",
    "        # return zero if the two rectangles don't overlap\n",
    "        p1 = self.bl_corner\n",
    "        p2 = other.bl_corner\n",
    "        if p2[0]>p1[0]+self.w or p2[1]>p1[1]+self.h or p2[0]+other.w<p1[0] or p2[1]+other.h<p1[1]:\n",
    "            return 0\n",
    "        \n",
    "        # if the bottom-left corner of one rectangle is inside the other\n",
    "        if self.is_inside(p2):\n",
    "            # new width\n",
    "            if p2[0]+other.w>p1[0]+self.w:\n",
    "                new_w = p1[0]+self.w-p2[0]\n",
    "            else:\n",
    "                new_w = other.w\n",
    "                \n",
    "            # new height\n",
    "            if p2[1]+other.h>p1[1]+self.h:\n",
    "                new_h = p1[1]+self.h-p2[1]\n",
    "            else:\n",
    "                new_h = other.h\n",
    "            \n",
    "            return new_w*new_h\n",
    "        \n",
    "        # if the bottom-left corner of one rectangle is inside the other\n",
    "        else:\n",
    "            # new width\n",
    "            if p2[0]+other.w>p1[0]+self.w:\n",
    "                new_w = self.w\n",
    "            else:\n",
    "                new_w = p2[0]+other.w-p1[0]\n",
    "                \n",
    "            # new height\n",
    "            if p2[1]+other.h>p1[1]+self.h:\n",
    "                new_h = self.h\n",
    "            else:\n",
    "                new_h = p2[1]+other.h-p1[1]\n",
    "            \n",
    "            return new_w*new_h\n",
    "    \n",
    "    "
   ]
  },
  {
   "cell_type": "code",
   "execution_count": 97,
   "metadata": {},
   "outputs": [
    {
     "name": "stdout",
     "output_type": "stream",
     "text": [
      "(1, 0)\n",
      "2\n",
      "3\n",
      "\n",
      "***test is_inside method:\n",
      "True\n",
      "True\n",
      "True\n",
      "False\n",
      "False\n",
      "False\n",
      "\n",
      "***test is_get_overlap_area method:\n",
      "6\n",
      "1\n"
     ]
    }
   ],
   "source": [
    "r1 = Rectangle((1, 0), 2, 3)\n",
    "print(r1.bl_corner)\n",
    "print(r1.w)\n",
    "print(r1.h)\n",
    "\n",
    "print()\n",
    "print(\"***test is_inside method:\")\n",
    "print(r1.is_inside((2, 3)))\n",
    "print(r1.is_inside((2, 2)))\n",
    "print(r1.is_inside((1, 3)))\n",
    "print(r1.is_inside((0.5, 0.5)))\n",
    "print(r1.is_inside((-1, 2)))\n",
    "print(r1.is_inside((5, 6)))\n",
    "\n",
    "print()\n",
    "print(\"***test is_get_overlap_area method:\")\n",
    "r2 = Rectangle((0, 0), 4, 4)\n",
    "r3 = Rectangle((2, 1), 1, 1)\n",
    "print(r1.get_overlap_area(r2))\n",
    "print(r3.get_overlap_area(r3))"
   ]
  }
 ],
 "metadata": {
  "kernelspec": {
   "display_name": "Python 3",
   "language": "python",
   "name": "python3"
  },
  "language_info": {
   "codemirror_mode": {
    "name": "ipython",
    "version": 3
   },
   "file_extension": ".py",
   "mimetype": "text/x-python",
   "name": "python",
   "nbconvert_exporter": "python",
   "pygments_lexer": "ipython3",
   "version": "3.8.5"
  }
 },
 "nbformat": 4,
 "nbformat_minor": 4
}
