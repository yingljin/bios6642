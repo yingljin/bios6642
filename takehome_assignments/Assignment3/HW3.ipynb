{
 "cells": [
  {
   "cell_type": "code",
   "execution_count": 6,
   "metadata": {},
   "outputs": [],
   "source": [
    "# Q1\n",
    "\n",
    "def num_days_for_higher_temp(tup):\n",
    "    \n",
    "    # tup must be a tuple of integers\n",
    "    for x in tup:\n",
    "        if type(x) != int:\n",
    "            return('Input must be interger')\n",
    "    # length of tuple must be between 1 and 100\n",
    "    if len(tup)<1 or len(tup)>100:\n",
    "        return('Length out of range')\n",
    "\n",
    "    # calculate number of days to get a higher tempurature\n",
    "    num_days = []\n",
    "    for i in range(len(tup)-1):\n",
    "        count = 0 # set as zero if there is no higher tempurature following\n",
    "        for j in range(i+1, len(tup)):\n",
    "            if tup[j] > tup[i]:\n",
    "                count = j-i # get the difference in days once a higher tempurature is found\n",
    "                break\n",
    "        num_days.append(count)\n",
    "    \n",
    "    # for the last day, it must be zero\n",
    "    num_days.append(0)\n",
    "    \n",
    "    return num_days"
   ]
  },
  {
   "cell_type": "code",
   "execution_count": 8,
   "metadata": {},
   "outputs": [
    {
     "name": "stdout",
     "output_type": "stream",
     "text": [
      "[2, 1, 1, 4, 2, 1, 1, 1, 0]\n",
      "[1, 0, 1, 0, 1, 0]\n",
      "Input must be interger\n",
      "[1, 1, 2, 1, 0]\n",
      "Length out of range\n"
     ]
    }
   ],
   "source": [
    "print(num_days_for_higher_temp((20, 15, 30, 66, 36, 36, 51, 89, 92)))\n",
    "print(num_days_for_higher_temp((29, 30, 21, 28, 9, 12)))\n",
    "print(num_days_for_higher_temp((29, 30, \"twenty-one\", 28, 9, 12)))\n",
    "print(num_days_for_higher_temp((15, 21, 34, 24, 36)))\n",
    "print(num_days_for_higher_temp(()))"
   ]
  },
  {
   "cell_type": "code",
   "execution_count": 12,
   "metadata": {},
   "outputs": [],
   "source": [
    "# Q2\n",
    "\n",
    "# find all integers after deleting n digits\n",
    "# is equivalent to choosing l-n digits from, where l is the length of the original number\n",
    "# to make the remaining digit the smallest, \n",
    "# we can, from higher order the lower, make each digit remaining the smallest\n",
    "# therefore, we will choose the smallest one from the first n+1 digit and place it into the highest order\n",
    "# then repeat this process with the remaining digits after this digit \n",
    "# while updating l and n \n",
    "\n",
    "## define a function to find the smallest digits in the first m digits of a number\n",
    "def find_min_first_m(m, num_lst):\n",
    "    # input is a list cotaining all digits of this number\n",
    "    # from higher to lower order\n",
    "    if m>1:\n",
    "        digits = num_lst[0:m]\n",
    "        return min(digits)\n",
    "    elif m==1:\n",
    "        return num_lst\n",
    "    \n",
    "## define a function to repeated pick out each digit \n",
    "def min_after_del_digits(n, num):\n",
    "    \n",
    "    # input must be positive integers\n",
    "    if type(n)!=int or type(num)!=int or n<=0 or num <= 0:\n",
    "        return ('Input must be positive integers')\n",
    "    else:\n",
    "        # number of digits of num is not smaller than value of n\n",
    "        if len(str(num))<n:\n",
    "            return('Number of digits must be greater or equal to n')\n",
    "    \n",
    "    # define l, n, also covert digits to list\n",
    "    old_digits = list(str(num))\n",
    "    l = len(old_digits)\n",
    "    new_digits = []\n",
    "    full_n = l-n\n",
    "    \n",
    "    # if length of num is the same as n, deleting all digits and return 0\n",
    "    if l==n: \n",
    "        return(0)\n",
    "    \n",
    "    # the loop stops when there is no digit to delete\n",
    "    while n>0:\n",
    "        this_min = find_min_first_m(n+1, old_digits)\n",
    "        new_digits.append(this_min)\n",
    "        this_ind = old_digits.index(this_min)\n",
    "        # delete digits before \n",
    "        del old_digits[0:this_ind+1]\n",
    "        # update l and n\n",
    "        l = len(old_digits)\n",
    "        n = n-this_ind\n",
    "    \n",
    "    # if more than 1 digits remaining, add them to the new_digits\n",
    "    if len(new_digits)<full_n:\n",
    "        new_digits = new_digits+old_digits\n",
    "        \n",
    "    # convert list of digits back to a number\n",
    "    new_num = \"\"\n",
    "    for dig in new_digits:\n",
    "        new_num=new_num+dig\n",
    "    new_num = int(new_num)\n",
    "        \n",
    "    return(new_num)    \n",
    "    "
   ]
  },
  {
   "cell_type": "code",
   "execution_count": 15,
   "metadata": {},
   "outputs": [
    {
     "name": "stdout",
     "output_type": "stream",
     "text": [
      "30\n",
      "1136\n",
      "0\n",
      "123\n",
      "34515\n",
      "Number of digits must be greater or equal to n\n"
     ]
    }
   ],
   "source": [
    "print(min_after_del_digits(1, 2030))\n",
    "print(min_after_del_digits(3, 3712136))\n",
    "print(min_after_del_digits(2, 19))\n",
    "print(min_after_del_digits(3, 234123))\n",
    "print(min_after_del_digits(5, 20394756615))\n",
    "print(min_after_del_digits(3, 23))"
   ]
  },
  {
   "cell_type": "code",
   "execution_count": 131,
   "metadata": {},
   "outputs": [
    {
     "name": "stdout",
     "output_type": "stream",
     "text": [
      "Country             Gold                Silver              Bronze              \n",
      "United States       1022                795                 706                 \n",
      "Great Britain       263                 295                 293                 \n",
      "China               224                 167                 155                 \n",
      "France              212                 241                 263                 \n",
      "Italy               206                 178                 193                 \n",
      "Germany             191                 194                 230                 \n",
      "Hungary             175                 147                 169                 \n",
      "Russia              149                 125                 152                 \n",
      "Australia           147                 163                 187                 \n",
      "Sweden              145                 170                 179                 \n",
      "Japan               142                 136                 161                 \n",
      "Finland             101                 85                  117                 \n"
     ]
    }
   ],
   "source": [
    "# Q3\n",
    "## Part 1\n",
    "import os\n",
    "import json\n",
    "\n",
    "f = open('olympic_medals.json', \"r\")\n",
    "dct = json.load(f)\n",
    "\n",
    "# combine country and medals into one new list\n",
    "new_l = []\n",
    "for i in range(len(dct['Country'])):\n",
    "    new_l.append([dct['Country'][i], dct['Medals'][i][0], dct['Medals'][i][1], dct['Medals'][i][2]])\n",
    "\n",
    "# arrange by number of gold medals\n",
    "sort_l = sorted(new_l, key = lambda x: x[1], reverse = True)\n",
    "\n",
    "# print\n",
    "print('{0:<20}{1:<20}{2:<20}{3:<20}'.format('Country', 'Gold', 'Silver', 'Bronze'))\n",
    "for x in sort_l:\n",
    "    print('{0:<20}{1:<20}{2:<20}{3:<20}'.format(x[0], x[1], x[2], x[3]))"
   ]
  },
  {
   "cell_type": "code",
   "execution_count": 132,
   "metadata": {},
   "outputs": [],
   "source": [
    "# Q3\n",
    "## Part 2\n",
    "\n",
    "# calculate total number of medals\n",
    "for x in sort_l:\n",
    "    x.append(x[1]+x[2]+x[3])\n",
    "\n",
    "# rearrange by total number in decreasing order\n",
    "sort_l_total = sorted(sort_l, key = lambda x: x[4], reverse = True)\n",
    "f.close()\n",
    "\n",
    "# write into CSV file\n",
    "f2 = open('medals.csv', 'w')\n",
    "f2.write('Country,Gold,Silver,Bronze,Total')\n",
    "f2.write(\"\\n\")\n",
    "for x in sort_l_total:\n",
    "    f2.write('{},{},{},{},{}'.format(x[0], x[1], x[2], x[3], x[4]))\n",
    "    f2.write(\"\\n\")\n",
    "    "
   ]
  }
 ],
 "metadata": {
  "kernelspec": {
   "display_name": "Python 3",
   "language": "python",
   "name": "python3"
  },
  "language_info": {
   "codemirror_mode": {
    "name": "ipython",
    "version": 3
   },
   "file_extension": ".py",
   "mimetype": "text/x-python",
   "name": "python",
   "nbconvert_exporter": "python",
   "pygments_lexer": "ipython3",
   "version": "3.8.5"
  }
 },
 "nbformat": 4,
 "nbformat_minor": 4
}
