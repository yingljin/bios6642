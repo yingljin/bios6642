{
 "cells": [
  {
   "cell_type": "code",
   "execution_count": 2,
   "metadata": {},
   "outputs": [
    {
     "name": "stdout",
     "output_type": "stream",
     "text": [
      "{'John': 5, 'Mia': 6, 'David': 3, 'Jim': 2, 'Zoe': 4, 'Anna': 9, 'Jan': 8}\n"
     ]
    }
   ],
   "source": [
    "import os\n",
    "import csv\n",
    "\n",
    "# handle exception that file does not exist\n",
    "try:\n",
    "    f1 = open('citations.csv', \"r\")\n",
    "except FileNotFoundError:\n",
    "    print('No such file exist in working directory')\n",
    "\n",
    "# read and clean the file  \n",
    "lines = f1.readlines()[1:] \n",
    "new_lines = []\n",
    "for l in lines:\n",
    "    l = l.strip().split(',')\n",
    "    # remove empty strings\n",
    "    while \"\" in l:\n",
    "        l.remove(\"\")\n",
    "    new_lines.append(l)\n",
    "    \n",
    "# store each line in a dictionary\n",
    "new_lines_dict = {}\n",
    "for l in new_lines:\n",
    "    new_lines_dict[l[0]] = []\n",
    "    for n in l[1:]:\n",
    "        new_lines_dict[l[0]].append(int(n))\n",
    "        \n",
    "# caluclate h-index\n",
    "h_index = {}\n",
    "\n",
    "for l in new_lines_dict:\n",
    "    \n",
    "    # arrange paper by number of citations in increasing order \n",
    "    inc_num_cit = sorted(new_lines_dict[l])\n",
    "    num_paper = len(new_lines_dict[l])\n",
    "    \n",
    "    # find h-index of this scientist\n",
    "    # by locating the point when number of citations exceeds number of paper\n",
    "    # and take the number of papers at that point\n",
    "    for i in range(num_paper):\n",
    "        if inc_num_cit[i] >= num_paper-i:\n",
    "            h_index[l] = num_paper-i\n",
    "            break\n",
    "\n",
    "print(h_index)\n",
    "\n",
    "f1.close()"
   ]
  },
  {
   "cell_type": "code",
   "execution_count": 7,
   "metadata": {},
   "outputs": [
    {
     "name": "stdout",
     "output_type": "stream",
     "text": [
      "3\n",
      "5\n"
     ]
    }
   ],
   "source": [
    "# Q2\n",
    "\n",
    "## We can find the longest increaseing sebsequence ending with each element\n",
    "## and then taking the maximum of lengths of all the subsequences\n",
    "\n",
    "def longest_increasing_subseq(lst):\n",
    "    \n",
    "    # make a list to store lengths of longest increasing subseqences \n",
    "    # dnding with each number of the original list\n",
    "    max_n = []\n",
    "    for i in range(len(lst)):\n",
    "        max_n.append(1)\n",
    "        for j in range(i):\n",
    "            # comparing this item to elements before it\n",
    "            if lst[i] > lst[j]:\n",
    "                # update the maximum length\n",
    "                # either the length of the longest increasing subseqence ending with the jth element plus one\n",
    "                # or itslef\n",
    "                max_n[i] = max(max_n[j]+1, max_n[i])\n",
    "    \n",
    "    return max(max_n)\n",
    "                \n",
    "        \n",
    "print(longest_increasing_subseq([9,3,8,6,7,1]))\n",
    "print(longest_increasing_subseq([10,2,2,8,20,12,32,16,19]))        "
   ]
  },
  {
   "cell_type": "code",
   "execution_count": 8,
   "metadata": {},
   "outputs": [],
   "source": [
    "# Q3\n",
    "\n",
    "## define animal class\n",
    "class Animal:\n",
    "    def __init__(self, name, age):\n",
    "        self.name = name\n",
    "        self.age = age\n",
    "    def get_age(self):\n",
    "        return self.age\n",
    "    def get_name(self):\n",
    "        return self.name\n"
   ]
  },
  {
   "cell_type": "code",
   "execution_count": 9,
   "metadata": {},
   "outputs": [],
   "source": [
    "# define a subclass \"dog\"\n",
    "class Dog(Animal):\n",
    "    def __init__(self, name, age, father = None, mother = None):\n",
    "        self.name = name\n",
    "        self.age = age\n",
    "        self.father = father\n",
    "        self.mother = mother\n",
    "        \n",
    "    def get_mother(self):\n",
    "        return print(self.mother)  \n",
    "    def get_father(self):\n",
    "        return print(self.father) \n",
    "    \n",
    "    # overide add operator\n",
    "    def __add__(self, other):\n",
    "        dog_c = Dog(name = self.name+\"+\"+other.name, age = 0, father = self.name, mother = other.name)\n",
    "        return dog_c\n",
    "    \n",
    "    # display of object\n",
    "    def __str__(self):\n",
    "        return 'Dog:{0}:{1}'.format(self.name, self.age)\n"
   ]
  },
  {
   "cell_type": "code",
   "execution_count": 13,
   "metadata": {},
   "outputs": [
    {
     "name": "stdout",
     "output_type": "stream",
     "text": [
      "**Test the printing and attributes of Dog object\n",
      "Dog:Jack:4\n",
      "Jack\n",
      "4\n",
      "Fluffy\n",
      "None\n",
      "\n",
      "**Test the overide of + operator\n",
      "Dog:Jack+Molly:0\n",
      "Molly\n",
      "Jack\n",
      "0\n"
     ]
    }
   ],
   "source": [
    "# test\n",
    "dog_a = Dog(\"Jack\", 4, father = \"Fluffy\")\n",
    "dog_b = Dog(\"Molly\", 3, mother = \"Snowball\")\n",
    "\n",
    "# dog a\n",
    "print(\"**Test the printing and attributes of Dog object\")\n",
    "print(dog_a)\n",
    "print(dog_a.name)\n",
    "print(dog_a.age)\n",
    "print(dog_a.father)\n",
    "print(dog_a.mother)\n",
    "print()\n",
    "\n",
    "# dog c\n",
    "print(\"**Test the overide of + operator\")\n",
    "dog_c = dog_a+dog_b\n",
    "print(dog_c)\n",
    "print(dog_c.mother)\n",
    "print(dog_c.father)\n",
    "print(dog_c.age)\n"
   ]
  }
 ],
 "metadata": {
  "kernelspec": {
   "display_name": "Python 3",
   "language": "python",
   "name": "python3"
  },
  "language_info": {
   "codemirror_mode": {
    "name": "ipython",
    "version": 3
   },
   "file_extension": ".py",
   "mimetype": "text/x-python",
   "name": "python",
   "nbconvert_exporter": "python",
   "pygments_lexer": "ipython3",
   "version": "3.8.5"
  }
 },
 "nbformat": 4,
 "nbformat_minor": 4
}
