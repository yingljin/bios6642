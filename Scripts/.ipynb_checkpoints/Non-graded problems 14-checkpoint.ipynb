{
 "cells": [
  {
   "cell_type": "code",
   "execution_count": 44,
   "metadata": {},
   "outputs": [],
   "source": [
    "# Q1\n",
    "\n",
    "class point3d:\n",
    "    \"\"\"A point in 3-D space\"\"\"\n",
    "    \n",
    "    def __init__(self, x = 0, y = 0, z = 0):\n",
    "        self.x = x\n",
    "        self.y = y\n",
    "        self.z = z\n",
    "        \n",
    "    def move(self, new_point):\n",
    "        self.x = new_point[0]\n",
    "        self.y = new_point[1]\n",
    "        self.z = new_point[2]\n",
    "    \n",
    "    def distance(self, new_point):\n",
    "        from math import sqrt\n",
    "        d = sqrt((self.x-new_point.x)**2+(self.y-new_point.y)**2+(self.z-new_point.z)**2)\n",
    "        return d\n",
    "    \n",
    "    def __str__(self):\n",
    "        return('({0}, {1}, {2})'.format(self.x, self.y, self.z))"
   ]
  },
  {
   "cell_type": "code",
   "execution_count": 46,
   "metadata": {},
   "outputs": [
    {
     "name": "stdout",
     "output_type": "stream",
     "text": [
      "(1, 2.5, -3)\n",
      "(6, 0, 3.3)\n",
      "(1, 2, -3)\n",
      "(0, 4, 0)\n",
      "(1.5, 0, 0)\n",
      "(0, 0, 0)\n"
     ]
    },
    {
     "data": {
      "text/plain": [
       "1.5"
      ]
     },
     "execution_count": 46,
     "metadata": {},
     "output_type": "execute_result"
    }
   ],
   "source": [
    "p1 = point3d(x=1, y=2.5, z=-3)\n",
    "print(p1)\n",
    "\n",
    "# move one point from another\n",
    "p1.move((6, 0, 3.3))\n",
    "print(p1)\n",
    "\n",
    "# distance\n",
    "p1 = point3d(x=1, y=2, z=-3)\n",
    "print(p1)\n",
    "p2 = point3d(0, 4, 0)\n",
    "print(p2)\n",
    "p2.distance(p1)"
   ]
  },
  {
   "cell_type": "code",
   "execution_count": 61,
   "metadata": {},
   "outputs": [],
   "source": [
    "# Q2\n",
    "\n",
    "class circle:\n",
    "    \n",
    "    def __init__(self, c=(0,0), r=0):\n",
    "        self.center = c\n",
    "        self.radius = r\n",
    "        \n",
    "    def in_circle(self, x, y):\n",
    "        from math import sqrt\n",
    "        d = sqrt((self.center[0]-x)**2+(self.center[1]-y)**2)\n",
    "        return d<=self.radius\n",
    "    \n",
    "    def __str__(self):\n",
    "        return 'Center: ({0}, {1}); radius: {2}'.format(self.center[0], self.center[1], self.radius)"
   ]
  },
  {
   "cell_type": "code",
   "execution_count": 63,
   "metadata": {},
   "outputs": [
    {
     "name": "stdout",
     "output_type": "stream",
     "text": [
      "Center: (1.5, 4); radius: 5\n"
     ]
    },
    {
     "data": {
      "text/plain": [
       "False"
      ]
     },
     "execution_count": 63,
     "metadata": {},
     "output_type": "execute_result"
    }
   ],
   "source": [
    "c1 = circle((1.5, 4), 5)\n",
    "print(c1)\n",
    "\n",
    "c1.in_circle(0,0)\n",
    "c1.in_circle(25,17)"
   ]
  }
 ],
 "metadata": {
  "kernelspec": {
   "display_name": "Python 3",
   "language": "python",
   "name": "python3"
  },
  "language_info": {
   "codemirror_mode": {
    "name": "ipython",
    "version": 3
   },
   "file_extension": ".py",
   "mimetype": "text/x-python",
   "name": "python",
   "nbconvert_exporter": "python",
   "pygments_lexer": "ipython3",
   "version": "3.8.5"
  }
 },
 "nbformat": 4,
 "nbformat_minor": 4
}
