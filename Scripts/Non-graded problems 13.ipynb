{
 "cells": [
  {
   "cell_type": "code",
   "execution_count": 6,
   "metadata": {},
   "outputs": [
    {
     "name": "stdout",
     "output_type": "stream",
     "text": [
      "Provide a number: 1\n",
      "Provide another number: 4\n",
      "num1/num2 =  0.25\n",
      "num1*num2 =  4\n",
      "It is done\n"
     ]
    }
   ],
   "source": [
    "# P1\n",
    "\n",
    "try:\n",
    "    num1 = int(input('Provide a number: '))\n",
    "    num2 = int(input('Provide another number: '))\n",
    "    print('num1/num2 = ', num1/num2)\n",
    "    print('num1*num2 = ', num1*num2)\n",
    "except ValueError:\n",
    "    print('Cannot convert integer')\n",
    "except ZeroDivisionError:\n",
    "    print(\"Denominator cannot be zero\")\n",
    "finally:\n",
    "     print('It is done')\n",
    "    "
   ]
  },
  {
   "cell_type": "code",
   "execution_count": 2,
   "metadata": {},
   "outputs": [
    {
     "name": "stdout",
     "output_type": "stream",
     "text": [
      "Enter the width: 1\n",
      "Enter the height: -1\n",
      "Input cannot be negative\n"
     ]
    }
   ],
   "source": [
    "# P2\n",
    "\n",
    "w = float(input('Enter the width: '))\n",
    "h = float(input('Enter the height: '))\n",
    "\n",
    "try:\n",
    "    if w<0 or h<0:\n",
    "        raise ValueError\n",
    "    else:\n",
    "        s = w*h\n",
    "    print('Area: ', s)\n",
    "except ValueError:\n",
    "    print('Input cannot be negative')"
   ]
  }
 ],
 "metadata": {
  "kernelspec": {
   "display_name": "Python 3",
   "language": "python",
   "name": "python3"
  },
  "language_info": {
   "codemirror_mode": {
    "name": "ipython",
    "version": 3
   },
   "file_extension": ".py",
   "mimetype": "text/x-python",
   "name": "python",
   "nbconvert_exporter": "python",
   "pygments_lexer": "ipython3",
   "version": "3.8.5"
  }
 },
 "nbformat": 4,
 "nbformat_minor": 4
}
