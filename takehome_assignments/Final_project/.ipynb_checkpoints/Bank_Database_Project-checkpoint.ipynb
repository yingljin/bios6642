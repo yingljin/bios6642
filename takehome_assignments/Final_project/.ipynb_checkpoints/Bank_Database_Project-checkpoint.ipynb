{
 "cells": [
  {
   "cell_type": "code",
   "execution_count": 173,
   "metadata": {},
   "outputs": [],
   "source": [
    "# Bank account class\n",
    "class Account:\n",
    "    \"\"\" Models a bank account \"\"\"\n",
    "    \n",
    "    # define attributes \n",
    "    def __init__(self, acnum, name, age, resid, balance, opendate):\n",
    "        \"\"\" Initialize the instance variables of a bank account object. \"\"\"\n",
    "        self.acnum = int(acnum)\n",
    "        self.name = name\n",
    "        self.age = int(age)\n",
    "        self.resid = resid\n",
    "        self.balance = float(balance)\n",
    "        self.opendate = opendate\n",
    "\n",
    "    # define methods\n",
    "    def deposit(self, num):\n",
    "        \"\"\" Add a certain amount of money to an account. \"\"\"\n",
    "        self.balance = self.balance+num\n",
    "\n",
    "    def withdraw(self, num):\n",
    "        \"\"\" Remove a certain amount of money from an account. \"\"\"\n",
    "        self.balance = self.balance-num\n",
    "\n",
    "    def transfer(self, other, num):\n",
    "        \"\"\" Transfer a certain amount of money from an account to another account. \"\"\"\n",
    "        # self is sender, other is receiver\n",
    "        if self.balance >= num:\n",
    "            self.balance = self.balance-num\n",
    "            other.balance = other.balance+num\n",
    "        else:\n",
    "            raise ValueError('Insufficient balance')\n",
    "            \n",
    "    def __str__(self):\n",
    "        return '{0:<10}{1:<10}{2:<10}{3:<15}{4:<10}{5:<10}'.format(self.acnum, self.name, self.age, \n",
    "                                                             self.resid, self.balance, self.opendate)\n",
    "    "
   ]
  },
  {
   "cell_type": "code",
   "execution_count": 174,
   "metadata": {},
   "outputs": [],
   "source": [
    "# initialize database\n",
    "def database_initialization():\n",
    "    \"\"\" Read the account data file and initialize the database for the account management system. \"\"\"\n",
    "    database = []\n",
    "    with open('account_data.csv') as f:\n",
    "        accounts = f.readlines()\n",
    "        for x in accounts[1:]:\n",
    "            record = x.strip().split(',')\n",
    "            this_ac = Account(record[0], record[1], record[2], record[3], record[4], record[5])\n",
    "            database.append(this_ac)\n",
    "         \n",
    "    return database"
   ]
  },
  {
   "cell_type": "code",
   "execution_count": 175,
   "metadata": {},
   "outputs": [],
   "source": [
    "# User login\n",
    "\n",
    "# automatically stops running if the user\n",
    "# provides 3 successive incorrect inputs for username and/or password.\n",
    "def user_login():\n",
    "    \"\"\" Ask the user to provide username and password for login.\n",
    "        The user will exit the system if three successive incorrect\n",
    "        username and/or password are provided. \"\"\"\n",
    "    num_try = 0\n",
    "    database = None\n",
    "    for i in range(3):\n",
    "        input_name = str(input('Enter username: '))\n",
    "        input_pw = str(input('Enter password: '))\n",
    "        num_try = num_try+1\n",
    "        if input_name == 'BIOS6642' and input_pw == 'python':\n",
    "            database = database_initialization()\n",
    "            break\n",
    "        else:\n",
    "            print('Try again') if num_try <= 2 else print('Please restart the system and try again')\n",
    "    \n",
    "    return database\n",
    "    \n",
    "        "
   ]
  },
  {
   "cell_type": "code",
   "execution_count": 176,
   "metadata": {},
   "outputs": [
    {
     "name": "stdout",
     "output_type": "stream",
     "text": [
      "Enter username: BIOS6642\n",
      "Enter password: python\n"
     ]
    }
   ],
   "source": [
    "db = user_login()"
   ]
  },
  {
   "cell_type": "code",
   "execution_count": 204,
   "metadata": {},
   "outputs": [],
   "source": [
    "def user_selection(database = db, by = \"account number\"):\n",
    "    \"\"\" Provide data management operations/options for the system. \"\"\"\n",
    "    if by == \"account number\":\n",
    "        new_db = sorted(database, key = lambda x: x.acnum)\n",
    "    elif by == \"current balance\":\n",
    "        new_db = sorted(database, key = lambda x: x.balance)\n",
    "    elif by == \"open date\":\n",
    "        # define a function to transform open date to a integer\n",
    "        # that stands to the number of days from 0/0/00\n",
    "        def convert_date(date):\n",
    "            date = date.split('/')\n",
    "            days = int(date[2])*365+int(date[0])*30+int(date[1])\n",
    "            return days\n",
    "    \n",
    "        new_db = sorted(database, key = lambda x: convert_date(x.opendate))\n",
    "    \n",
    "    return new_db\n"
   ]
  },
  {
   "cell_type": "code",
   "execution_count": 205,
   "metadata": {},
   "outputs": [
    {
     "name": "stdout",
     "output_type": "stream",
     "text": [
      "1038      George    81        California     673398.0  11/22/01  \n",
      "966       Jan       83        New York       992391.0  2/10/02   \n",
      "9202      Kate      69        Washington     589278.0  2/9/06    \n",
      "1002      Smith     43        Texas          980876.0  12/28/06  \n",
      "826       Charlie   62        Florida        99523.0   8/1/07    \n",
      "666       Leo       38        California     95427.0   10/2/08   \n",
      "422       John      26        Washington     10002.0   3/31/09   \n",
      "992       Evan      52        California     878223.0  10/16/09  \n",
      "120       Owen      32        Utah           247702.0  1/2/10    \n",
      "927       James     89        California     86523.0   12/22/10  \n",
      "101       Bert      32        California     766209.0  2/23/11   \n",
      "371       Ella      57        Colorado       1263210.0 3/26/11   \n",
      "3322      Alex      52        Utah           69542.0   8/7/11    \n",
      "501       Jan       67        Colorado       21230.0   8/9/12    \n",
      "1001      Mia       51        New York       230289.0  9/8/12    \n",
      "1210      Judy      61        Colorado       83497.0   6/30/15   \n",
      "6696      Ella      32        Wyoming        56870.0   12/3/15   \n",
      "1300      Sam       53        Texas          50315.0   5/13/16   \n",
      "201       David     42        Florida        29879.0   7/19/16   \n",
      "221       Alex      69        Utah           230902.0  9/16/16   \n",
      "102       Ava       23        Texas          20211.0   5/9/17    \n",
      "9091      Oliver    38        Colorado       59823.0   1/2/18    \n",
      "129       Zoe       30        Colorado       79934.0   8/20/18   \n",
      "2232      Taylor    39        Colorado       980367.0  11/8/18   \n",
      "1008      Jack      78        Utah           120253.0  2/12/19   \n",
      "2032      Jacob     22        California     3268.0    9/2/19    \n",
      "589       Anna      33        New York       10986.0   10/26/19  \n",
      "412       Lily      28        California     12000.0   12/1/19   \n",
      "888       Lily      27        Wyoming        26683.0   3/8/20    \n",
      "420       Bert      21        Washington     10354.0   4/2/20    \n",
      "508       Justin    30        Colorado       20000.0   5/3/20    \n"
     ]
    }
   ],
   "source": [
    "new_db = user_selection(by = \"open date\")\n",
    "for x in new_db:\n",
    "    print(x)"
   ]
  },
  {
   "cell_type": "code",
   "execution_count": null,
   "metadata": {},
   "outputs": [],
   "source": [
    "# main function\n",
    "def main(database_filename):\n",
    "    # User login\n",
    "    # Please implement the user_login function (and add proper formal parameters if needed)\n",
    "    user_login()\n",
    "\n",
    "    # Database initialization: initialize the bank account management system database\n",
    "    # Please implement the database_initialization function (and add proper formal parameters if needed)\n",
    "    database_initialization()\n",
    "\n",
    "    # Bank account management via user selection\n",
    "    # Please implement the user_selection function (and add proper formal parameters if needed)\n",
    "    user_selection()\n"
   ]
  },
  {
   "cell_type": "code",
   "execution_count": null,
   "metadata": {},
   "outputs": [],
   "source": [
    "# Run the main function\n",
    "database_filename = 'account_data.csv' # Assume this file is in your current working directory\n",
    "main(database_filename)"
   ]
  }
 ],
 "metadata": {
  "kernelspec": {
   "display_name": "Python 3",
   "language": "python",
   "name": "python3"
  },
  "language_info": {
   "codemirror_mode": {
    "name": "ipython",
    "version": 3
   },
   "file_extension": ".py",
   "mimetype": "text/x-python",
   "name": "python",
   "nbconvert_exporter": "python",
   "pygments_lexer": "ipython3",
   "version": "3.8.5"
  }
 },
 "nbformat": 4,
 "nbformat_minor": 4
}
