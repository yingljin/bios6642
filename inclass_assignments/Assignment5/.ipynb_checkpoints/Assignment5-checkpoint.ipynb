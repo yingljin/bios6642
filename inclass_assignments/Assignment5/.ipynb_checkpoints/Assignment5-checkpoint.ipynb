{
 "cells": [
  {
   "cell_type": "code",
   "execution_count": 2,
   "metadata": {},
   "outputs": [],
   "source": [
    "# Q1\n",
    "\n",
    "def f1(x, lst):\n",
    "    # input must be integer and list\n",
    "    if type(x)!=int or type(lst)!=list:\n",
    "        return 'Input must be integer and list'\n",
    "    \n",
    "    # if absolute value of x is greater than the length of list, return a message\n",
    "    if abs(x) > len(lst):\n",
    "        print('The integer is out of range')\n",
    "        return None\n",
    "    \n",
    "    # for positive x that is within range, return rotated list\n",
    "    elif x > 0:\n",
    "        new_lst = lst[-x:]+lst[0:len(lst)-x]\n",
    "        return new_lst\n",
    "    # for negative x that is wtihin range, return rotated list\n",
    "    elif x < 0:\n",
    "        new_list = lst[abs(x):]+lst[0:abs(x)]\n",
    "        return new_list\n",
    "    # for x=0, return original list\n",
    "    else:\n",
    "        return lst\n",
    "        "
   ]
  },
  {
   "cell_type": "code",
   "execution_count": 46,
   "metadata": {},
   "outputs": [
    {
     "name": "stdout",
     "output_type": "stream",
     "text": [
      "[1, 2, 3, 4, 5, 6, 7, 8, 9, 10]\n",
      "The integer is out of range\n",
      "None\n",
      "[10, 1, 2, 3, 4, 5, 6, 7, 8, 9]\n",
      "[8, 9, 10, 1, 2, 3, 4, 5, 6, 7]\n",
      "[3, 4, 5, 6, 7, 8, 9, 10, 1, 2]\n",
      "Input must be integer and list\n",
      "Input must be integer and list\n"
     ]
    }
   ],
   "source": [
    "# test function\n",
    "print(f1(0, [1, 2, 3, 4, 5, 6, 7, 8, 9, 10]))\n",
    "print(f1(15, [1, 2, 3, 4, 5, 6, 7, 8, 9, 10]))\n",
    "print(f1(1, [1, 2, 3, 4, 5, 6, 7, 8, 9, 10]))\n",
    "print(f1(3, [1, 2, 3, 4, 5, 6, 7, 8, 9, 10]))\n",
    "print(f1(-2, [1, 2, 3, 4, 5, 6, 7, 8, 9, 10]))\n",
    "print(f1('a', [1, 2, 3, 4, 5, 6, 7, 8, 9, 10]))\n",
    "print(f1(-2, {1, 2, 3, 4, 5, 6, 7, 8, 9, 10}))"
   ]
  },
  {
   "cell_type": "code",
   "execution_count": 104,
   "metadata": {},
   "outputs": [
    {
     "name": "stdout",
     "output_type": "stream",
     "text": [
      "[8, 9, 10, 1, 2, 3, 4, 5, 6, 7]\n",
      "[4, 5, 6, 7, 8, 9, 10, 1, 2, 3]\n"
     ]
    }
   ],
   "source": [
    "print(f1(3, [1, 2, 3, 4, 5, 6, 7, 8, 9, 10]))\n",
    "print(f1(-3, [1, 2, 3, 4, 5, 6, 7, 8, 9, 10]))"
   ]
  },
  {
   "cell_type": "code",
   "execution_count": 5,
   "metadata": {},
   "outputs": [
    {
     "data": {
      "text/plain": [
       "[2, 3, 4, 6, 'a', 7]"
      ]
     },
     "execution_count": 5,
     "metadata": {},
     "output_type": "execute_result"
    }
   ],
   "source": [
    "f1(0, [2, 3, 4, 6, 'a', 7])"
   ]
  },
  {
   "cell_type": "code",
   "execution_count": 100,
   "metadata": {},
   "outputs": [],
   "source": [
    "# Q2\n",
    "\n",
    "def f2(str):\n",
    "    \n",
    "    # input must be non-empty string\n",
    "    if  str == '':\n",
    "        print('Input must be non_empty')\n",
    "        return None\n",
    "    else:\n",
    "        # find repeated characters and arrange by the position where repeat ends\n",
    "        rep_char = []\n",
    "        for id in range(0, len(str)):\n",
    "            if str[id] in str[0:id] and str[id] not in rep_char:\n",
    "                rep_char.append(str[id])\n",
    "        # only keep the first two if there are more than two characters        \n",
    "        rep_char = rep_char[0:2] if len(rep_char) > 2 else rep_char\n",
    "        return rep_char\n",
    "    \n",
    "        "
   ]
  },
  {
   "cell_type": "code",
   "execution_count": 101,
   "metadata": {},
   "outputs": [
    {
     "name": "stdout",
     "output_type": "stream",
     "text": [
      "['b', 'a']\n",
      "[]\n",
      "['a']\n",
      "['c', 'b']\n",
      "Input must be non_empty\n",
      "None\n"
     ]
    }
   ],
   "source": [
    "print(f2('abcbda'))\n",
    "print(f2('abc'))\n",
    "print(f2('abaa'))\n",
    "print(f2('abccbda'))\n",
    "print(f2(''))"
   ]
  },
  {
   "cell_type": "code",
   "execution_count": 108,
   "metadata": {},
   "outputs": [
    {
     "name": "stdout",
     "output_type": "stream",
     "text": [
      "['p', 'o']\n"
     ]
    }
   ],
   "source": [
    "print(f2('python progrmming'))"
   ]
  }
 ],
 "metadata": {
  "kernelspec": {
   "display_name": "Python 3",
   "language": "python",
   "name": "python3"
  },
  "language_info": {
   "codemirror_mode": {
    "name": "ipython",
    "version": 3
   },
   "file_extension": ".py",
   "mimetype": "text/x-python",
   "name": "python",
   "nbconvert_exporter": "python",
   "pygments_lexer": "ipython3",
   "version": "3.8.5"
  }
 },
 "nbformat": 4,
 "nbformat_minor": 4
}
