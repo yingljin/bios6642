{
 "cells": [
  {
   "cell_type": "code",
   "execution_count": 52,
   "metadata": {},
   "outputs": [
    {
     "name": "stdout",
     "output_type": "stream",
     "text": [
      "Enter your guess: 50\n",
      "Too low\n",
      "Enter your guess: 75\n",
      "Too high\n",
      "Enter your guess: 65\n",
      "Too high\n",
      "Enter your guess: 50\n",
      "Too low\n",
      "Enter your guess: 0\n",
      "Reset time elapsed to 0\n",
      "Enter your guess: 50\n",
      "Too low\n",
      "Enter your guess: 55\n",
      "Too high\n",
      "Enter your guess: 53\n",
      "Too high\n",
      "Enter your guess: 52\n",
      "Too high\n",
      "Enter your guess: 51\n",
      "Time elapsed:  21.644567728042603\n"
     ]
    }
   ],
   "source": [
    "# Q1\n",
    "from random import randrange\n",
    "from time import time\n",
    "\n",
    "# computer generate a real number\n",
    "real_num = randrange(1, 101)\n",
    "\n",
    "# start guessing\n",
    "\n",
    "## starting time\n",
    "time1 = time()\n",
    "time_guess = 0\n",
    "\n",
    "## first guess\n",
    "guess = int(input('Enter your guess: '))\n",
    "\n",
    "# terminates when enter negative number of guess correctly\n",
    "while guess != real_num and guess>=0:\n",
    "    if guess==0:\n",
    "        # reset time when enter 0\n",
    "        time_guess = 0\n",
    "        time1 = time()\n",
    "        print('Reset time elapsed to 0')\n",
    "    elif guess>real_num:\n",
    "        print('Too high')\n",
    "    else:\n",
    "        print('Too low')\n",
    "    time_guess = time()-time1 # time elapsed\n",
    "    guess = int(input('Enter your guess: ')) # get another guess\n",
    "\n",
    "# output time elapsed\n",
    "print('Time elapsed: ', time_guess)"
   ]
  },
  {
   "cell_type": "code",
   "execution_count": 44,
   "metadata": {},
   "outputs": [],
   "source": [
    "# Q2\n",
    "\n",
    "def least_common_multiple(num1, num2, num3):\n",
    "    # none of the parameters can be 0\n",
    "    if num1==0 or num2==0 or num3==0:\n",
    "        return 'Error: input cannot be 0'\n",
    "    else:\n",
    "        m = max(num1, num2, num3, 1) # m must be a positive integer\n",
    "        while m%num1!=0 or m%num2!=0 or m%num3!=0:\n",
    "            m = m+1\n",
    "    return m"
   ]
  },
  {
   "cell_type": "code",
   "execution_count": 29,
   "metadata": {},
   "outputs": [
    {
     "data": {
      "text/plain": [
       "6"
      ]
     },
     "execution_count": 29,
     "metadata": {},
     "output_type": "execute_result"
    }
   ],
   "source": [
    "least_common_multiple(1, 2, 3)"
   ]
  },
  {
   "cell_type": "code",
   "execution_count": 32,
   "metadata": {},
   "outputs": [
    {
     "data": {
      "text/plain": [
       "6"
      ]
     },
     "execution_count": 32,
     "metadata": {},
     "output_type": "execute_result"
    }
   ],
   "source": [
    "least_common_multiple(-1, -2, -3)"
   ]
  },
  {
   "cell_type": "code",
   "execution_count": 30,
   "metadata": {},
   "outputs": [
    {
     "data": {
      "text/plain": [
       "30"
      ]
     },
     "execution_count": 30,
     "metadata": {},
     "output_type": "execute_result"
    }
   ],
   "source": [
    "least_common_multiple(-5, -2, 3)"
   ]
  },
  {
   "cell_type": "code",
   "execution_count": 45,
   "metadata": {},
   "outputs": [
    {
     "data": {
      "text/plain": [
       "30"
      ]
     },
     "execution_count": 45,
     "metadata": {},
     "output_type": "execute_result"
    }
   ],
   "source": [
    "least_common_multiple(-5, -2, -3)"
   ]
  },
  {
   "cell_type": "code",
   "execution_count": 31,
   "metadata": {},
   "outputs": [
    {
     "data": {
      "text/plain": [
       "36"
      ]
     },
     "execution_count": 31,
     "metadata": {},
     "output_type": "execute_result"
    }
   ],
   "source": [
    "least_common_multiple(2, 9, 12)"
   ]
  },
  {
   "cell_type": "code",
   "execution_count": 33,
   "metadata": {},
   "outputs": [
    {
     "data": {
      "text/plain": [
       "'Error: input cannot be 0'"
      ]
     },
     "execution_count": 33,
     "metadata": {},
     "output_type": "execute_result"
    }
   ],
   "source": [
    "least_common_multiple(1, 2, 0)"
   ]
  },
  {
   "cell_type": "code",
   "execution_count": 57,
   "metadata": {},
   "outputs": [
    {
     "data": {
      "text/plain": [
       "7260"
      ]
     },
     "execution_count": 57,
     "metadata": {},
     "output_type": "execute_result"
    }
   ],
   "source": [
    "least_common_multiple(15, -60, 121)"
   ]
  }
 ],
 "metadata": {
  "kernelspec": {
   "display_name": "Python 3",
   "language": "python",
   "name": "python3"
  },
  "language_info": {
   "codemirror_mode": {
    "name": "ipython",
    "version": 3
   },
   "file_extension": ".py",
   "mimetype": "text/x-python",
   "name": "python",
   "nbconvert_exporter": "python",
   "pygments_lexer": "ipython3",
   "version": "3.8.5"
  }
 },
 "nbformat": 4,
 "nbformat_minor": 4
}
