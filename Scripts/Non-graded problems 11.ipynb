{
 "cells": [
  {
   "cell_type": "code",
   "execution_count": 28,
   "metadata": {},
   "outputs": [],
   "source": [
    "# Problem 1\n",
    "def if_duplicate(lst):\n",
    "    d = {}\n",
    "    for i in range(len(lst)):\n",
    "        if lst[i] in d.values():\n",
    "            return True\n",
    "        else:\n",
    "            d[i] = lst[i]\n",
    "            print(d)\n",
    "    return False\n",
    "    "
   ]
  },
  {
   "cell_type": "code",
   "execution_count": 29,
   "metadata": {},
   "outputs": [
    {
     "name": "stdout",
     "output_type": "stream",
     "text": [
      "{0: 1}\n",
      "{0: 1, 1: 2}\n",
      "{0: 1, 1: 2, 2: 3}\n"
     ]
    },
    {
     "data": {
      "text/plain": [
       "True"
      ]
     },
     "execution_count": 29,
     "metadata": {},
     "output_type": "execute_result"
    }
   ],
   "source": [
    "if_duplicate([1, 2, 3, 3])"
   ]
  },
  {
   "cell_type": "code",
   "execution_count": 94,
   "metadata": {},
   "outputs": [],
   "source": [
    "# Problem 2\n",
    "\n",
    "def print_tab(d):\n",
    "    l = 1\n",
    "    \n",
    "    # print keys and find minimum length \n",
    "    for k in d.keys():\n",
    "        l = l if l > len(d[k]) else len(d[k])\n",
    "        print('{0:<5}'.format(k), end = \"\")\n",
    "    print()\n",
    "    # print elements\n",
    "    for i in range(l):\n",
    "        for v in d.values():\n",
    "            if len(v) > i:\n",
    "                print('{0:<5}'.format(v[i]), end = \"\")\n",
    "            else:\n",
    "                print('{0:<5}'.format(' '), end = \"\")\n",
    "                \n",
    "        print()\n",
    "    "
   ]
  },
  {
   "cell_type": "code",
   "execution_count": 95,
   "metadata": {},
   "outputs": [
    {
     "name": "stdout",
     "output_type": "stream",
     "text": [
      "A    B    C    \n",
      "2    10   3    \n",
      "1    2    9    \n",
      "8    0    26   \n",
      "          5    \n",
      "          7    \n"
     ]
    }
   ],
   "source": [
    "print_tab({'A': [2, 1, 8], 'B': [10, 2, 0], \"C\":[3, 9, 26, 5, 7]})"
   ]
  }
 ],
 "metadata": {
  "kernelspec": {
   "display_name": "Python 3",
   "language": "python",
   "name": "python3"
  },
  "language_info": {
   "codemirror_mode": {
    "name": "ipython",
    "version": 3
   },
   "file_extension": ".py",
   "mimetype": "text/x-python",
   "name": "python",
   "nbconvert_exporter": "python",
   "pygments_lexer": "ipython3",
   "version": "3.8.5"
  }
 },
 "nbformat": 4,
 "nbformat_minor": 4
}
