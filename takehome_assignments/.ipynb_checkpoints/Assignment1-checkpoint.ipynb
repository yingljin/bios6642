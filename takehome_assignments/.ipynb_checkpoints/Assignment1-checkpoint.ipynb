{
 "cells": [
  {
   "cell_type": "code",
   "execution_count": 19,
   "metadata": {},
   "outputs": [
    {
     "name": "stdout",
     "output_type": "stream",
     "text": [
      "Enter level of pattern (must be between 0 and 10): 7\n",
      "            1 \n",
      "          1 2 1 \n",
      "        1 2 3 2 1 \n",
      "      1 2 3 4 3 2 1 \n",
      "    1 2 3 4 5 4 3 2 1 \n",
      "  1 2 3 4 5 6 5 4 3 2 1 \n",
      "1 2 3 4 5 6 7 6 5 4 3 2 1 \n"
     ]
    }
   ],
   "source": [
    "# Question 1\n",
    "\n",
    "## Get level of input from user\n",
    "nrow = int(input('Enter level of pattern (must be between 0 and 10): '))\n",
    "ncol = 2*nrow-1\n",
    "\n",
    "## If level is valid\n",
    "if nrow > 0 and nrow < 10:\n",
    "    for r in range(1,nrow+1):\n",
    "        print('  '*(nrow-r), end = '') # print spaces\n",
    "        for c in range(1,r+1):\n",
    "            print(c, end = ' ') # print the first half of this row\n",
    "        for c in range(r+1, 2*r):\n",
    "            print(2*r-c, end = ' ') # print the second half of this row\n",
    "        print()\n",
    "else:\n",
    "    print('Error: level of pattern out of range.')"
   ]
  },
  {
   "cell_type": "code",
   "execution_count": 28,
   "metadata": {},
   "outputs": [
    {
     "data": {
      "text/plain": [
       "True"
      ]
     },
     "execution_count": 28,
     "metadata": {},
     "output_type": "execute_result"
    }
   ],
   "source": [
    "# Question 2\n",
    "\n",
    "## Function to test whether a numbr of panlindormic\n",
    "def if_palindromic(num):\n",
    "    \n",
    "    # find the number of digits\n",
    "    n_digit = 1\n",
    "    while num//10**n_digit!=0:\n",
    "        n_digit = n_digit+1\n",
    "    \n",
    "    # reverse num\n",
    "    new_num = 0\n",
    "    for i in range(1, n_digit+1):\n",
    "        this_digit = (num%10**i)//10**(i-1)\n",
    "        new_num = new_num+this_digit*10**(n_digit-i)\n",
    "    \n",
    "    if new_num == num:\n",
    "        return(True)\n",
    "    else:\n",
    "        return(False)\n",
    "\n",
    "\n",
    "## Test this function\n",
    "\n",
    "if_palindromic(15)\n",
    "if_palindromic(303)"
   ]
  },
  {
   "cell_type": "code",
   "execution_count": 35,
   "metadata": {},
   "outputs": [
    {
     "data": {
      "text/plain": [
       "False"
      ]
     },
     "execution_count": 35,
     "metadata": {},
     "output_type": "execute_result"
    }
   ],
   "source": [
    "## Function to test whether a numbr of panlindormic\n",
    "\n",
    "def if_prime(num):\n",
    "    if num > 1:\n",
    "        for i in range(2, num):\n",
    "            if num%i==0:\n",
    "                return(False)\n",
    "        return(True)\n",
    "    else:\n",
    "        return(False)\n",
    "    \n",
    "## Test this function\n",
    "if_prime(131)\n",
    "if_prime(142)"
   ]
  },
  {
   "cell_type": "code",
   "execution_count": 40,
   "metadata": {},
   "outputs": [
    {
     "name": "stdout",
     "output_type": "stream",
     "text": [
      "Enter the upper bound: 190\n",
      "2 3 5 7 11 101 131 151 181 "
     ]
    }
   ],
   "source": [
    "## Print all palindromic prime numbers up to a given number\n",
    "## User provide upper bound\n",
    "upb = int(input('Enter the upper bound: '))\n",
    "\n",
    "for i in range(1, upb+1):\n",
    "    if if_palindromic(i) and if_prime(i):\n",
    "        print(i, end = ' ')"
   ]
  },
  {
   "cell_type": "code",
   "execution_count": 73,
   "metadata": {},
   "outputs": [
    {
     "name": "stdout",
     "output_type": "stream",
     "text": [
      "33 36 44 48 "
     ]
    }
   ],
   "source": [
    "# Question 3\n",
    "\n",
    "def q3_func(p1, p2):\n",
    "    if p1 > p2:\n",
    "        p1, p2 = p2, p1\n",
    "    for num in range(p1, p2+1):\n",
    "        result = True\n",
    "        n_digit = 0\n",
    "        while num//10**n_digit!=0:\n",
    "            this_digit = (num%10**(n_digit+1))//10**n_digit\n",
    "            if this_digit!=0 and num%this_digit==0:\n",
    "                n_digit = n_digit+1\n",
    "            else:\n",
    "                result = False\n",
    "                break\n",
    "        if result:\n",
    "            print(num, end = \" \")\n",
    "    \n",
    "## Test this function\n",
    "q3_func(30, 50)"
   ]
  }
 ],
 "metadata": {
  "kernelspec": {
   "display_name": "Python 3",
   "language": "python",
   "name": "python3"
  },
  "language_info": {
   "codemirror_mode": {
    "name": "ipython",
    "version": 3
   },
   "file_extension": ".py",
   "mimetype": "text/x-python",
   "name": "python",
   "nbconvert_exporter": "python",
   "pygments_lexer": "ipython3",
   "version": "3.8.5"
  }
 },
 "nbformat": 4,
 "nbformat_minor": 4
}
