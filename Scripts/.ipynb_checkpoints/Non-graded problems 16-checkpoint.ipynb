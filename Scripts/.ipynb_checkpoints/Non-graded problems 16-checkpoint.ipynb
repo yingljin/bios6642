{
 "cells": [
  {
   "cell_type": "code",
   "execution_count": 6,
   "metadata": {},
   "outputs": [],
   "source": [
    "# Q1\n",
    "\n",
    "def re_order(lst):\n",
    "    # split even and odd numbers\n",
    "    even_list = []\n",
    "    odd_list = []\n",
    "    for x in lst: \n",
    "        if x%2 == 0:\n",
    "            even_list.append(x)\n",
    "        else:\n",
    "            odd_list.append(x)\n",
    "    \n",
    "    # sort both list\n",
    "    even_list = sorted(even_list)\n",
    "    odd_list = sorted(odd_list, reverse = True)\n",
    "    \n",
    "    return even_list+odd_list\n",
    "        \n",
    "    "
   ]
  },
  {
   "cell_type": "code",
   "execution_count": 8,
   "metadata": {},
   "outputs": [
    {
     "data": {
      "text/plain": [
       "[2, 8, 9, 7, 1, -3, -5]"
      ]
     },
     "execution_count": 8,
     "metadata": {},
     "output_type": "execute_result"
    }
   ],
   "source": [
    "re_order([2, 1, 10, 4, 3, 6, 7, 9, 8, 5])\n",
    "re_order([9, -3, 2, 7, 1, -5, 8])"
   ]
  },
  {
   "cell_type": "code",
   "execution_count": 9,
   "metadata": {},
   "outputs": [],
   "source": [
    "# Q2\n",
    "\n",
    "def max_product(lst):\n",
    "    if len(lst) < 2:\n",
    "        return None\n",
    "    \n",
    "    lst = sorted(lst)\n",
    "    prod1 = lst[0]*lst[1]\n",
    "    prod2 = lst[-1]*lst[-2]\n",
    "    \n",
    "    if prod1 > prod2:\n",
    "        print(lst[0], \"times\", lst[1], \"=\", prod1)\n",
    "    else:\n",
    "        print(lst[-1], \"times\", lst[-2], \"=\", prod2)\n",
    "    \n",
    "    return None"
   ]
  },
  {
   "cell_type": "code",
   "execution_count": 15,
   "metadata": {},
   "outputs": [
    {
     "name": "stdout",
     "output_type": "stream",
     "text": [
      "12 times 8 = 96\n",
      "6 times 3 = 18\n",
      "0 times -3 = 0\n"
     ]
    }
   ],
   "source": [
    "max_product([2, 1, 12, 6, 2, 8])\n",
    "max_product([6, 3, 1, 0 , -6])\n",
    "max_product([-3, 0])"
   ]
  }
 ],
 "metadata": {
  "kernelspec": {
   "display_name": "Python 3",
   "language": "python",
   "name": "python3"
  },
  "language_info": {
   "codemirror_mode": {
    "name": "ipython",
    "version": 3
   },
   "file_extension": ".py",
   "mimetype": "text/x-python",
   "name": "python",
   "nbconvert_exporter": "python",
   "pygments_lexer": "ipython3",
   "version": "3.8.5"
  }
 },
 "nbformat": 4,
 "nbformat_minor": 4
}
