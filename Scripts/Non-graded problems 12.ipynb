{
 "cells": [
  {
   "cell_type": "code",
   "execution_count": 1,
   "metadata": {},
   "outputs": [
    {
     "data": {
      "text/plain": [
       "True"
      ]
     },
     "execution_count": 1,
     "metadata": {},
     "output_type": "execute_result"
    }
   ],
   "source": [
    "# p1\n",
    "import os\n",
    "cwd = os.getcwd()\n",
    "cwd\n",
    "os.path.exists('words.txt')"
   ]
  },
  {
   "cell_type": "code",
   "execution_count": 2,
   "metadata": {},
   "outputs": [],
   "source": [
    "f1 = open('words.txt', 'r')\n",
    "f2 = open('long_words.txt', \"w\")\n",
    "\n",
    "for l in f1:\n",
    "    this_l = l.strip()\n",
    "    if len(this_l) > 20:\n",
    "        f2.write(this_l+\"\\n\")\n",
    "\n",
    "f1.close()\n",
    "f2.close()"
   ]
  },
  {
   "cell_type": "code",
   "execution_count": 3,
   "metadata": {},
   "outputs": [
    {
     "data": {
      "text/plain": [
       "[['Name', 'Score', 'Grade'],\n",
       " ['N1', '99', 'A'],\n",
       " ['N2', '93', 'A-'],\n",
       " ['N3', '88', 'B+'],\n",
       " ['N4', '100', 'A'],\n",
       " ['N5', '92', 'A-']]"
      ]
     },
     "execution_count": 3,
     "metadata": {},
     "output_type": "execute_result"
    }
   ],
   "source": [
    "# P2\n",
    "f3 = open('fake_records.csv', \"r\")\n",
    "lines = f3.readlines()\n",
    "\n",
    "new_lines = []\n",
    "for l in lines:\n",
    "    new_lines.append(l.strip().split(\",\"))\n",
    "    \n",
    "new_lines"
   ]
  },
  {
   "cell_type": "code",
   "execution_count": 4,
   "metadata": {},
   "outputs": [],
   "source": [
    "# rearrange by score\n",
    "new_lines = sorted(new_lines[1:], key = lambda x: int(x[1]), reverse = True)"
   ]
  },
  {
   "cell_type": "code",
   "execution_count": 7,
   "metadata": {},
   "outputs": [
    {
     "name": "stdout",
     "output_type": "stream",
     "text": [
      "[['N4', '100', 'A'], ['N1', '99', 'A'], ['N2', '93', 'A-'], ['N5', '92', 'A-'], ['N3', '88', 'B+']]\n"
     ]
    }
   ],
   "source": [
    "print(new_lines)"
   ]
  },
  {
   "cell_type": "code",
   "execution_count": 8,
   "metadata": {},
   "outputs": [
    {
     "name": "stdout",
     "output_type": "stream",
     "text": [
      "Name      Score     Grade     \n",
      "N4        100       A         \n",
      "N1        99        A         \n",
      "N2        93        A-        \n",
      "N5        92        A-        \n",
      "N3        88        B+        \n"
     ]
    }
   ],
   "source": [
    "# print\n",
    "header = lines[0].strip().split(\",\")\n",
    "print('{0:10}{1:10}{2:10}'.format(header[0], header[1], header[2]))\n",
    "for l in new_lines:\n",
    "    print('{0:10}{1:10}{2:10}'.format(l[0], l[1], l[2]))"
   ]
  }
 ],
 "metadata": {
  "kernelspec": {
   "display_name": "Python 3",
   "language": "python",
   "name": "python3"
  },
  "language_info": {
   "codemirror_mode": {
    "name": "ipython",
    "version": 3
   },
   "file_extension": ".py",
   "mimetype": "text/x-python",
   "name": "python",
   "nbconvert_exporter": "python",
   "pygments_lexer": "ipython3",
   "version": "3.8.5"
  }
 },
 "nbformat": 4,
 "nbformat_minor": 4
}
