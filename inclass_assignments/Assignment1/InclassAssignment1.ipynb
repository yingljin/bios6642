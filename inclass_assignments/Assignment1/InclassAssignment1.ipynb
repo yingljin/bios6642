{
 "cells": [
  {
   "cell_type": "code",
   "execution_count": 10,
   "metadata": {},
   "outputs": [
    {
     "name": "stdout",
     "output_type": "stream",
     "text": [
      "B\n",
      "2\n",
      "A\n",
      "10.1\n",
      "C\n",
      "1\n"
     ]
    }
   ],
   "source": [
    "# Question 1\n",
    "str1 = 'A' \n",
    "num2 = 2 \n",
    "str3 = 'B' \n",
    "num4 = 10.1 \n",
    "str5 = 'C' \n",
    "str6 = '1'\n",
    "\n",
    "# print with 1 line\n",
    "print(str3, num2, str1, num4, str5, str6, sep = \"\\n\")"
   ]
  },
  {
   "cell_type": "code",
   "execution_count": 14,
   "metadata": {},
   "outputs": [
    {
     "name": "stdout",
     "output_type": "stream",
     "text": [
      "Please enter the number of books (must be greater than 1): 15\n",
      "The total cost is: 818.8000000000001\n"
     ]
    }
   ],
   "source": [
    "# Question 2\n",
    "price = 66.95\n",
    "disc = 0.2\n",
    "ship1 = 3.5\n",
    "ship2 = 0.85\n",
    "\n",
    "# get the number of books from user\n",
    "num = int(input('Please enter the number of books (must be greater than 1): '))\n",
    "\n",
    "# calculate cost\n",
    "cost = price*num*(1-disc)+ship1+ship2*(num-1)\n",
    "print('The total cost is:', cost)"
   ]
  },
  {
   "cell_type": "code",
   "execution_count": 13,
   "metadata": {},
   "outputs": [
    {
     "name": "stdout",
     "output_type": "stream",
     "text": [
      "Please enter hours (must < 3): 1\n",
      "Please enter minutes (must < 59): 30\n",
      "Please enter seconds (must < 59): 35\n",
      "The end time is: 22:3:26\n"
     ]
    }
   ],
   "source": [
    "# Question 3\n",
    "hstart = 20\n",
    "mstart = 32\n",
    "sstart = 51\n",
    "\n",
    "# user input\n",
    "hinput = int(input('Please enter hours (must < 3): '))\n",
    "minput = int(input('Please enter minutes (must < 59): '))\n",
    "sinput = int(input('Please enter seconds (must < 59): '))\n",
    "\n",
    "# calculate end time\n",
    "send = (sstart+sinput)%60\n",
    "mend = (mstart+minput+(sstart+sinput)//60)%60\n",
    "hend = hstart+hinput+(mstart+minput+(sstart+sinput)//60)//60\n",
    "\n",
    "#print\n",
    "print('The end time is:', end = \" \")\n",
    "print(hend, mend, send, sep = \":\")\n"
   ]
  }
 ],
 "metadata": {
  "kernelspec": {
   "display_name": "Python 3",
   "language": "python",
   "name": "python3"
  },
  "language_info": {
   "codemirror_mode": {
    "name": "ipython",
    "version": 3
   },
   "file_extension": ".py",
   "mimetype": "text/x-python",
   "name": "python",
   "nbconvert_exporter": "python",
   "pygments_lexer": "ipython3",
   "version": "3.8.5"
  }
 },
 "nbformat": 4,
 "nbformat_minor": 4
}
