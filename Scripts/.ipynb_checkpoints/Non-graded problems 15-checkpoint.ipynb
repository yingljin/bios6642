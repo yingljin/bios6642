{
 "cells": [
  {
   "cell_type": "code",
   "execution_count": 3,
   "metadata": {},
   "outputs": [],
   "source": [
    "# Q1\n",
    "\n",
    "class Person:\n",
    "    def __init__(self, name):\n",
    "        self.name = name\n",
    "    \n",
    "    def get_name(self):\n",
    "        return self.name"
   ]
  },
  {
   "cell_type": "code",
   "execution_count": 13,
   "metadata": {},
   "outputs": [],
   "source": [
    "class Student(Person):\n",
    "    def __init__(self, name, id, courses):\n",
    "        self.name = name\n",
    "        self.id = id\n",
    "        self.courses = courses\n",
    "    \n",
    "    def get_id(self):\n",
    "        return self.id\n",
    "    def get_courses(self):\n",
    "        return self.courses\n",
    "    \n",
    "    def edit_course(self, name, score):\n",
    "        self.courses[name] = score\n",
    "        "
   ]
  },
  {
   "cell_type": "code",
   "execution_count": 15,
   "metadata": {},
   "outputs": [
    {
     "data": {
      "text/plain": [
       "{'History': 90, 'Math': 90}"
      ]
     },
     "execution_count": 15,
     "metadata": {},
     "output_type": "execute_result"
    }
   ],
   "source": [
    "s1 = Student(\"Elisa\", 45, {\"History\": 85, \"Math\": 90})\n",
    "s1.edit_course(\"History\", 90)\n",
    "s1.courses"
   ]
  },
  {
   "cell_type": "code",
   "execution_count": 17,
   "metadata": {},
   "outputs": [],
   "source": [
    "# Q2\n",
    "class MyException(Exception):\n",
    "    pass"
   ]
  },
  {
   "cell_type": "code",
   "execution_count": 19,
   "metadata": {},
   "outputs": [],
   "source": [
    "class Student(Person):\n",
    "    def __init__(self, name, id, courses):\n",
    "        self.name = name\n",
    "        self.id = id\n",
    "        self.courses = courses\n",
    "    \n",
    "    def get_id(self):\n",
    "        return self.id\n",
    "    def get_courses(self):\n",
    "        return self.courses\n",
    "    \n",
    "    def edit_course(self, name, score):\n",
    "        if score >= 0 and score <= 100: \n",
    "            self.courses[name] = score\n",
    "        else:\n",
    "            raise MyException()\n",
    "        "
   ]
  },
  {
   "cell_type": "code",
   "execution_count": 21,
   "metadata": {},
   "outputs": [
    {
     "name": "stdout",
     "output_type": "stream",
     "text": [
      "Score out of range\n"
     ]
    }
   ],
   "source": [
    "s1 = Student(\"Elisa\", 45, {\"History\": 85, \"Math\": 90})\n",
    "\n",
    "try: \n",
    "    s1.edit_course(\"History\", 120)\n",
    "\n",
    "except MyException:\n",
    "    print('Score out of range')"
   ]
  }
 ],
 "metadata": {
  "kernelspec": {
   "display_name": "Python 3",
   "language": "python",
   "name": "python3"
  },
  "language_info": {
   "codemirror_mode": {
    "name": "ipython",
    "version": 3
   },
   "file_extension": ".py",
   "mimetype": "text/x-python",
   "name": "python",
   "nbconvert_exporter": "python",
   "pygments_lexer": "ipython3",
   "version": "3.8.5"
  }
 },
 "nbformat": 4,
 "nbformat_minor": 4
}
