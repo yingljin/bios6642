{
 "cells": [
  {
   "cell_type": "code",
   "execution_count": 25,
   "metadata": {},
   "outputs": [],
   "source": [
    "# Q1\n",
    "\n",
    "def get_ave(lst):\n",
    "    \n",
    "    # input must be a list of tuples \n",
    "    # tuples cannot be empty\n",
    "    for x in lst:\n",
    "        if type(x)!=tuple or len(x)==0:\n",
    "            return('Input must be non-empty tuples')\n",
    "    \n",
    "    # calculate average of each tuple\n",
    "    ave_lst = []\n",
    "    for x in lst:\n",
    "        s = 0\n",
    "        l = len(x)\n",
    "        for y in x:\n",
    "            s = s+y\n",
    "        ave_lst.append(s/l)\n",
    "    \n",
    "    return(ave_lst)"
   ]
  },
  {
   "cell_type": "code",
   "execution_count": 31,
   "metadata": {},
   "outputs": [
    {
     "name": "stdout",
     "output_type": "stream",
     "text": [
      "[2.0, 0.5, 10.0]\n",
      "[5.1, 1.2]\n",
      "[15.5, 8.666666666666666, 8.666666666666666]\n",
      "Input must be non-empty tuples\n",
      "Input must be non-empty tuples\n"
     ]
    }
   ],
   "source": [
    "print(get_ave([(1.0, 2.0, 3.0), (-1.0, 2.0), (10.1, -20.2, 30.1, 20.0)]))\n",
    "print(get_ave([(10.0, 0.2), (0.2, -0.1, 3.5)]))\n",
    "print(get_ave([(15.0, 16), (21, 1, 4), (3, 4, 19)]))\n",
    "print(get_ave([(15.0, 16), (21, 1, 4), ()]))\n",
    "print(get_ave([(15.0, 16), (21, 1, 4), [3, 4, 19]]))"
   ]
  },
  {
   "cell_type": "code",
   "execution_count": 13,
   "metadata": {},
   "outputs": [
    {
     "ename": "NameError",
     "evalue": "name 'average' is not defined",
     "output_type": "error",
     "traceback": [
      "\u001b[0;31m---------------------------------------------------------------------------\u001b[0m",
      "\u001b[0;31mNameError\u001b[0m                                 Traceback (most recent call last)",
      "\u001b[0;32m<ipython-input-13-37ccfe9c1b74>\u001b[0m in \u001b[0;36m<module>\u001b[0;34m\u001b[0m\n\u001b[0;32m----> 1\u001b[0;31m \u001b[0mhelp\u001b[0m\u001b[0;34m(\u001b[0m\u001b[0maverage\u001b[0m\u001b[0;34m)\u001b[0m\u001b[0;34m\u001b[0m\u001b[0;34m\u001b[0m\u001b[0m\n\u001b[0m",
      "\u001b[0;31mNameError\u001b[0m: name 'average' is not defined"
     ]
    }
   ],
   "source": [
    "# Q2\n",
    "\n"
   ]
  }
 ],
 "metadata": {
  "kernelspec": {
   "display_name": "Python 3",
   "language": "python",
   "name": "python3"
  },
  "language_info": {
   "codemirror_mode": {
    "name": "ipython",
    "version": 3
   },
   "file_extension": ".py",
   "mimetype": "text/x-python",
   "name": "python",
   "nbconvert_exporter": "python",
   "pygments_lexer": "ipython3",
   "version": "3.8.5"
  }
 },
 "nbformat": 4,
 "nbformat_minor": 4
}
